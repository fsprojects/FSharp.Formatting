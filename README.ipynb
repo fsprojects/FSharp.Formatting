
        {
            "cells": [
          {
           "cell_type": "markdown",
           "metadata": {},
           
           "source": ["# Running notebooks in MyBinder\n",
"\n",
"The `Dockerfile` and `NuGet.config` allow us to run generated notebooks in [MyBinder](https://mybinder.org)\n",
"\n",
"* `gh-pages` branch of dsyme/DiffSharp:  [![Binder](https://mybinder.org/badge_logo.svg)](https://mybinder.org/v2/gh/dsyme/DiffSharp/gh-pages)\n",
"\n",
"* `index.ipynb` for `dev` branch of dsyme/DiffSharp: [![Binder](https://mybinder.org/badge_logo.svg)](https://mybinder.org/v2/gh/dsyme/DiffSharp/gh-pages?filepath=index.ipynb)\n",
"\n",
"# Generating docs\n",
"\n",
"This published version of the docs can be refreshed by these commands:\n",
"\n",
"1. Prepare one off\n",
"\n",
"    dotnet tool restore\n",
"    git clone https://github.com/dsyme/DiffSharp ../DiffSharp-docs -b gh-pages --depth 1\n",
"\n",
"2. Build\n",
"\n",
"    dotnet build\n",
"    dotnet fsdocs build --clean --output ../DiffSharp-docs\n",
"    bash -c \"(cd ../DiffSharp-docs \u0026\u0026 git add . \u0026\u0026 git commit -a -m doc-update \u0026\u0026 git push -f https://github.com/dsyme/DiffSharp gh-pages)\"\n",
"\n",
"To use a local builg of FSharp.Formatting:\n",
"\n",
"       git clone https://github.com/fsprojects/FSharp.Formatting  ../FSharp.Formatting\n",
"       cd ..\\FSharp.Formatting\n",
"       .\\build\n",
"\n",
"# How it works\n",
"\n",
"Notebooks are generated for all .md and .fsx files under docs as part of the build.\n",
"\n",
"* Dockerfile - see https://github.com/dotnet/interactive/blob/master/docs/CreateBinder.md\n",
"\n",
"* NuGet.config - likewise\n",
"\n",
"See MyBinder for creating URLs\n"]
          }],
            "metadata": {
            "kernelspec": {"display_name": ".NET (F#)", "language": "F#", "name": ".net-fsharp"},
            "langauge_info": {
        "file_extension": ".fs",
        "mimetype": "text/x-fsharp",
        "name": "C#",
        "pygments_lexer": "fsharp",
        "version": "4.5"
        }
        },
            "nbformat": 4,
            "nbformat_minor": 1
        }
        
