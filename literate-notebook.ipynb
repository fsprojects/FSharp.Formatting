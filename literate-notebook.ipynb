
{
 "cells": [
  {
   "cell_type": "markdown",
   "metadata": {},
   
   "source": [
    "# Literate Notebooks\n",
    "\n",
    "Content may be created using  [.NET interactive](https://github.com/dotnet/interactive/tree/main) polyglot notebooks as the input file. Notebooks are processed by converting the notebook to a literate `.fsx` script and then passing the script through the script processing pipeline. Markdown notebook cells are passed through as comments surrounded by `(**` and `*)`, F# code cells are passed through as code, and non-F# code is passed through as markdown fenced code blocks between `(**` and `*)` comment markers.\n",
    "\n",
    "The `fsdocs` tool uses [dotnet-repl](https://github.com/jonsequitur/dotnet-repl) to evaluate polyglot notebooks. You need this tool to evaluate notebooks using `dotnet fsdocs [build|watch] --eval`. It can be installed into your local tool manifest using the command `dotnet tool install dotnet-repl`.\n",
    "\n",
    "F# Formatting tries to faithfully reproduce a notebook\u0027s native appearance when generating documents. Notebook cell outputs are passed through unchanged to preserve the notebook\u0027s html output. The below snippet demonstrates a notebook\u0027s html output for F# records, which differs from the output you would get with the same code inside a literate scripts.\n",
    "\n"
   ]
  }
,
  {
   "cell_type": "code",
   "metadata": {
    "dotnet_interactive": {
     "language": "fsharp"
    },
    "polyglot_notebook": {
     "kernelName": "fsharp"
    }
   },
   "execution_count": null, "outputs": [],
   "source": [
    "type ContactCard =\n",
    "    { Name: string\n",
    "      Phone: string\n",
    "      ZipCode: string }\n",
    "\n",
    "// Create a new record\n",
    "{ Name = \"Alf\"; Phone = \"(555) 555-5555\"; ZipCode = \"90210\" }\n"
   ]
  }
,
  {
   "cell_type": "code",
   "metadata": {
    "dotnet_interactive": {
     "language": "fsharp"
    },
    "polyglot_notebook": {
     "kernelName": "fsharp"
    }
   },
   "execution_count": null, "outputs": [],
   "source": [
    "\u003cp\u003e\u003cdetails open=\"open\" class=\"dni-treeview\"\u003e\u003csummary\u003e\u003cspan class=\"dni-code-hint\"\u003e\u003ccode\u003e{ Name = \u0026quot;Alf\u0026quot;\\n  Phone = \u0026quot;(555) 555-5555\u0026quot;\\n  ZipCode = \u0026quot;90210\u0026quot; }\u003c/code\u003e\u003c/span\u003e\u003c/summary\u003e\u003cdiv\u003e\u003ctable\u003e\u003cthead\u003e\u003ctr\u003e\u003c/tr\u003e\u003c/thead\u003e\u003ctbody\u003e\u003ctr\u003e\u003ctd\u003eName\u003c/td\u003e\u003ctd\u003e\u003cdiv class=\"dni-plaintext\"\u003e\u003cpre\u003eAlf\u003c/pre\u003e\u003c/div\u003e\u003c/td\u003e\u003c/tr\u003e\u003ctr\u003e\u003ctd\u003ePhone\u003c/td\u003e\u003ctd\u003e\u003cdiv class=\"dni-plaintext\"\u003e\u003cpre\u003e(555) 555-5555\u003c/pre\u003e\u003c/div\u003e\u003c/td\u003e\u003c/tr\u003e\u003ctr\u003e\u003ctd\u003eZipCode\u003c/td\u003e\u003ctd\u003e\u003cdiv class=\"dni-plaintext\"\u003e\u003cpre\u003e90210\u003c/pre\u003e\u003c/div\u003e\u003c/td\u003e\u003c/tr\u003e\u003c/tbody\u003e\u003c/table\u003e\u003c/div\u003e\u003c/details\u003e\u003cstyle\u003e\n",
    ".dni-code-hint {\n",
    "    font-style: italic;\n",
    "    overflow: hidden;\n",
    "    white-space: nowrap;\n",
    "}\n",
    ".dni-treeview {\n",
    "    white-space: nowrap;\n",
    "}\n",
    ".dni-treeview td {\n",
    "    vertical-align: top;\n",
    "    text-align: start;\n",
    "}\n",
    "details.dni-treeview {\n",
    "    padding-left: 1em;\n",
    "}\n",
    "table td {\n",
    "    text-align: start;\n",
    "}\n",
    "table tr { \n",
    "    vertical-align: top; \n",
    "    margin: 0em 0px;\n",
    "}\n",
    "table tr td pre \n",
    "{ \n",
    "    vertical-align: top !important; \n",
    "    margin: 0em 0px !important;\n",
    "} \n",
    "table th {\n",
    "    text-align: start;\n",
    "}\n",
    "\u003c/style\u003e\n",
    "\u003c/p\u003e\n"
   ]
  }
 ],
 "metadata": {
  "kernelspec": {
   "display_name": ".NET (F#)",
   "language": "F#",
   "name": ".net-fsharp"
  },
  "language_info": {
   "file_extension": ".fs",
   "mimetype": "text/x-fsharp",
   "name": "polyglot-notebook",
   "pygments_lexer": "fsharp"
  },
  "polyglot_notebook": {
   "kernelInfo": {
    "defaultKernelName": "fsharp",
    "items": [
     {
      "aliases": [],
      "languageName": "fsharp",
      "name": "fsharp"
     }
    ]
   }
  }
 },
 "nbformat": 4,
 "nbformat_minor": 2
}

