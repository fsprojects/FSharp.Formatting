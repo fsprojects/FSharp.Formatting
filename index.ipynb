
{
 "cells": [
  {
   "cell_type": "markdown",
   "metadata": {},
   
   "source": [
    "# F# Formatting: Documentation Tools for F# Code\n",
    "\n",
    "FSharp.Formatting is a set of libraries and tools for processing F# script files, markdown and for\n",
    "generating API documentation. F# Formatting package is used by this project and many other repositories.\n",
    "\n",
    "To use the tool, install and use the [fsdocs](commandline.html) tool in a typical F# project with\n",
    "F# project files plus markdown and script content in the `docs` directory:\n",
    "\n",
    "    dotnet tool install fsdocs-tool\n",
    "    dotnet fsdocs build \n",
    "    dotnet fsdocs watch\n",
    "\n",
    "To use the tool, explore the following topics:\n",
    "\n",
    "* [Authoring Content](content.html) - explains the content expected in the `docs` directory for the `fsdocs` tool.\n",
    "  \n",
    "\n",
    "* [Using the Command line tool](commandline.html) - explains how to use the `fsdocs` tool.\n",
    "  \n",
    "\n",
    "* [Generating API documentation](apidocs.html) - how to generate HTML documentation\n",
    "from \"XML comments\" in your .NET libraries. The tool handles comments written in\n",
    "Markdown too.\n",
    "  \n",
    "\n",
    "* [Styling](styling.html) - explains some options for styling the output of `fsdocs`.\n",
    "  \n",
    "\n",
    "* [Using literate programming](literate.html) - explains how to generate documentation\n",
    "for your projects or to write nicely formatted F# blog posts.\n",
    "  \n",
    "\n",
    "* [Embedding F# outputs in literate programming](evaluation.html) - provides more details on literate programming and\n",
    "explains how to embed results of a literate script file in the generated output. This way,\n",
    "you can easily format the results of running your code!\n",
    "  \n",
    "\n",
    "## Using FSharp.Formatting as a library\n",
    "\n",
    "F# Formatting is also [available on NuGet](https://nuget.org/packages/FSharp.Formatting) as a set of libraries.\n",
    "\n",
    "* [Markdown parser](markdown.html) - explains the F# Markdown\n",
    "processor that is available in this library with some basic examples of\n",
    "document processing.\n",
    "  \n",
    "\n",
    "* [F# code formatting](codeformat.html) - more details about the F# code\n",
    "formatter and how to use it to obtain information about F# source files.\n",
    "  \n",
    "\n",
    "## More information\n",
    "\n",
    "The documentation for this library is generated automatically using the tools\n",
    "built here. If you spot a typo, please submit a pull request! The source Markdown and F# script files are\n",
    "available in the [docs folder on GitHub](https://github.com/fsprojects/FSharp.Formatting/tree/master/docs).\n",
    "\n",
    "The project is hosted on [GitHub](https://github.com/fsprojects/FSharp.Formatting) where you can\n",
    "[report issues](https://github.com/fsprojects/FSharp.Formatting/issues), fork the project and submit pull requests.\n",
    "See the  [License file](https://github.com/fsprojects/FSharp.Formatting/blob/master/LICENSE.md) in the GitHub repository.\n",
    "\n"
   ]
  }
 ],
 "metadata": {
  "kernelspec": {
   "display_name": ".NET (F#)",
   "language": "F#",
   "name": ".net-fsharp"
  },
  "language_info": {
   "file_extension": ".fs",
   "mimetype": "text/x-fsharp",
   "name": "polyglot-notebook",
   "pygments_lexer": "fsharp"
  },
  "polyglot_notebook": {
   "kernelInfo": {
    "defaultKernelName": "fsharp",
    "items": [
     {
      "aliases": [],
      "languageName": "fsharp",
      "name": "fsharp"
     }
    ]
   }
  }
 },
 "nbformat": 4,
 "nbformat_minor": 2
}

