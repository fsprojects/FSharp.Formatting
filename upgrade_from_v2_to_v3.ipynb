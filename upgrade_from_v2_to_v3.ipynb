
        {
            "cells": [
          {
           "cell_type": "markdown",
           "metadata": {},
           
           "source": ["If you want to upgrade the [template](https://github.com/fsprojects/ProjectScaffold/blob/master/docsrc/tools/generate.template) that turns into `generate.fsx` \n",
"\n",
"The minimum thing you need to do is change the following:\n",
"\n",
"In `generate.fsx`\n",
"\n",
"- Add `open FSharp.Formatting.Razor` in order to continue using Razor templates (since v2 uses them)\n",
"- `Literate` to `DotLiquidLiterate`\n",
"- `ApiDocs` to `DotLiquidApiDocs`\n",
"\n",
"In the `paket.dependencies` you need to do the following:\n",
"\n",
"- Add `source https://ci.appveyor.com/nuget/fsharp-formatting`\n",
"- And pick out the latest version (at this moment it\u0027s \n",
"`3.0.0-beta09`), i.e. add `nuget FSharp.Formatting ~\u003e 3.0.0-beta09`\n",
"\n",
"If you have customized the generation, you might note that many of the DU types have additional parameters and are more type safe.\n"]
          }],
            "metadata": {
            "kernelspec": {"display_name": ".NET (F#)", "language": "F#", "name": ".net-fsharp"},
            "langauge_info": {
        "file_extension": ".fs",
        "mimetype": "text/x-fsharp",
        "name": "C#",
        "pygments_lexer": "fsharp",
        "version": "4.5"
        }
        },
            "nbformat": 4,
            "nbformat_minor": 1
        }
        
