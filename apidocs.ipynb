
        {
            "cells": [
          {
           "cell_type": "code",
           "metadata": {},
            "execution_count": null, "outputs": [], 
           "source": ["#r \"nuget: FSharp.Formatting,6.1.0\"\n"]
          }
,
          {
           "cell_type": "markdown",
           "metadata": {},
           
           "source": ["F# Formatting: API Documentation generation \n",
"====================================\n",
"\n",
"The [command-line tool `fsdocs`](commandline.html) or the namespace `FSharp.Formatting.ApiDocs` can be used to generate documentation \n",
"for F# libraries with XML comments. \n",
"\n",
" - You can use Markdown instead of XML in `///` comments\n",
" - The HTML is built by instantiating a template\n",
" - An ApiDocs model is available if you want to integrate with your own approach to templating.\n",
"\n",
"The documentation is normally built using\n",
"\n",
"    [lang=text]\n",
"    fsdocs build\n",
"\n",
"The output will be placed in `output\\reference` by default, and the template used is\n",
"`docs\\_template.html`.\n",
"\n",
"\n",
"Searchable API docs\n",
"-----------------\n",
"\n",
"When using the command-line tool a Lunr search index is automatically generated in `index.json`.\n",
"\n",
"To add a search box to your `_template.html`, load `fsdocs-search.js` found in this repo\n",
"(see the relevant sections of [`_template.html` used here](https://github.com/fsprojects/FSharp.Formatting/blob/master/docs/_template.html),\n",
"for example this HTML code:\n",
"\n",
"    ...\n",
"    \u003cdiv id=\"header\"\u003e\n",
"      \u003cdiv class=\"searchbox\"\u003e\n",
"        \u003clabel for=\"search-by\"\u003e\n",
"          \u003ci class=\"fas fa-search\"\u003e\u003c/i\u003e\n",
"        \u003c/label\u003e\n",
"        \u003cinput data-search-input=\"\" id=\"search-by\" type=\"search\" placeholder=\"Search...\" /\u003e\n",
"        \u003cspan data-search-clear=\"\"\u003e\n",
"          \u003ci class=\"fas fa-times\"\u003e\u003c/i\u003e\n",
"        \u003c/span\u003e\n",
"      \u003c/div\u003e\n",
"    \u003c/div\u003e\n",
"    ...\n",
"\n",
"Adding Go to GitHub source links\n",
"-----------------\n",
"You can automatically add GitHub links to each functions, values and class members for further reference.\n",
"You need to specify two more arguments: `sourceRepo` to the GitHub repository \n",
"and `sourceFolder` to the folder where your DLLs are built.\n",
"\n",
"It is assumed that `sourceRepo` and `sourceFolder` have synchronized contents.\n",
"\n",
"Adding cross-type links to modules and types in the same assembly\n",
"-----------------\n",
"You can automatically add cross-type links to the documentation pages of other modules and types in the same assembly.\n",
"You can do this in two different ways:\n",
"\n",
"* Add a [markdown inline link](https://github.com/adam-p/markdown-here/wiki/Markdown-Cheatsheet#links) were the link\n",
"title is the name of the type you want to link.\n",
"\n",
"\n",
"     /// this will generate a link to [Foo.Bar] documentation\n",
"\n",
"\n",
"* Add a [Markdown inline code](https://github.com/adam-p/markdown-here/wiki/Markdown-Cheatsheet#code) (using\n",
"back-ticks) where the code is the name of the type you want to link.\n",
"\n",
"\n",
"     /// This will also generate a link to `Foo.Bar` documentation\n",
"\n",
"\n",
"You can use either the full name (including namespace and module) or the simple name of a type.\n",
"If more than one type is found with the same name the link will not be generated.\n",
"If a type with the given name is not found in the same assembly the link will not be generated.\n"]
          }
,
          {
           "cell_type": "code",
           "metadata": {},
            "execution_count": null, "outputs": [], 
           "source": ["/// Contains two types [Bar] and [Foo.Baz]\n",
"module Foo = \n",
"    \n",
"    /// Bar is just an `int` and belongs to module [Foo]\n",
"    type Bar = int\n",
"    \n",
"    /// Baz contains a `Foo.Bar` as its `id`\n",
"    type Baz = { id: Bar }\n",
"\n",
"    /// This function operates on `Baz` types.\n",
"    let f (b:Baz) = \n",
"        b.id * 42\n",
"\n",
"/// Referencing [Foo3] will not generate a link as there is no type with the name `Foo3`\n",
"module Foo3 =\n",
"    \n",
"    /// This is not the same type as `Foo.Bar`\n",
"    type Bar = double\n",
"\n",
"    /// Using the simple name for [Bar] will fail to create a link because the name is duplicated in \n",
"    /// [Foo.Bar] and in [Foo3.Bar]. In this case, using the full name works.\n",
"    let f2 b =\n",
"         b * 50\n"]
          }
,
          {
           "cell_type": "markdown",
           "metadata": {},
           
           "source": ["Excluding APIs from the docs\n",
"-----------------\n",
"\n",
"If you want to exclude modules or functions from the API docs you can use the `[omit]` tag.\n",
"It needs to be set on a separate tripple-slashed line, but it could be either the first or the last:\n",
"\n"]
          }
,
          {
           "cell_type": "code",
           "metadata": {},
            "execution_count": null, "outputs": [], 
           "source": ["/// [omit]\n",
"/// Some actual comment\n",
"module Bar = \n",
"   let a = 42\n"]
          }
,
          {
           "cell_type": "markdown",
           "metadata": {},
           
           "source": ["Classic XML documentation comments\n",
"----------------------------------\n",
"\n",
"By default `FSharp.Formatting` will expect Markdown documentation comments, to parse XML comments\n",
"pass the named argument `mdcomments` with value `false`.\n",
"\n",
"An example of an XML documentation comment:\n"]
          }
,
          {
           "cell_type": "code",
           "metadata": {},
            "execution_count": null, "outputs": [], 
           "source": ["/// \u003csummary\u003e\n",
"/// Some actual comment\n",
"/// \u003cpara\u003eAnother paragraph\u003c/para\u003e\n",
"/// \u003c/summary\u003e\n",
"module Foo2 = \n",
"   let a = 42\n"]
          }
,
          {
           "cell_type": "markdown",
           "metadata": {},
           
           "source": ["Note that currently our code is not handling `\u003cparameter\u003e` and `\u003cresult\u003e tags, this is \n",
"not so much of a problem given that FSharp.Formatting infers the signature via reflection.\n",
"\n",
"\n",
"\n",
"Building library documentation programmatically\n",
"------------------------------\n",
"\n",
"First, we need to load the assembly and open necessary namespaces:\n"]
          }
,
          {
           "cell_type": "code",
           "metadata": {},
            "execution_count": null, "outputs": [], 
           "source": ["#r \"FSharp.Formatting.ApiDocs.dll\"\n",
"open FSharp.Formatting.ApiDocs\n",
"open System.IO\n"]
          }
,
          {
           "cell_type": "markdown",
           "metadata": {},
           
           "source": ["Building the library documentation is easy - you just need to call\n",
"`ApiDocs.Generate` from your FAKE script or from F# Interactive.\n",
"Assuming `root` is the root directory for your project, you can write:\n"]
          }
,
          {
           "cell_type": "code",
           "metadata": {},
            "execution_count": null, "outputs": [], 
           "source": ["ApiDocs.GenerateHtml\n",
"  ( [ Path.Combine(root, \"bin/YourLibrary.dll\") ], \n",
"    outDir=Path.Combine(root, \"output\"),\n",
"    template=Path.Combine(root, \"templates\", \"template.html\") )\n"]
          }],
            "metadata": {
            "kernelspec": {"display_name": ".NET (F#)", "language": "F#", "name": ".net-fsharp"},
            "langauge_info": {
        "file_extension": ".fs",
        "mimetype": "text/x-fsharp",
        "name": "C#",
        "pygments_lexer": "fsharp",
        "version": "4.5"
        }
        },
            "nbformat": 4,
            "nbformat_minor": 1
        }
        
