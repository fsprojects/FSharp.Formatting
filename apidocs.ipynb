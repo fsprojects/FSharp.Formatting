
        {
            "cells": [
          {
           "cell_type": "markdown",
           "metadata": {},
           
           "source": ["F# Formatting: Library documentation\n",
"====================================\n",
"\n",
"The [command-line tool `fsdocs`](commandline.html) or the `FSharp.Formatting.ApiDocs` namespace can be used to generate documentation \n",
"for F# libraries with XML comments. \n",
"\n",
" - You can use Markdown instead of XML in `///` comments\n",
" - The HTML is built by instantiating a template\n",
" - An ApiDocs model is available if you want to integrate with your own approach to templating.\n",
"\n",
"Building library documentation\n",
"------------------------------\n",
"\n",
"First, we need to load the assembly and open necessary namespaces:\n"]
          }
,
          {
           "cell_type": "code",
           "metadata": {},
            "execution_count": 2, "outputs": [], 
           "source": ["#r \"FSharp.Formatting.ApiDocs.dll\"\n",
"open FSharp.Formatting.ApiDocs\n",
"open System.IO\n"]
          }
,
          {
           "cell_type": "markdown",
           "metadata": {},
           
           "source": ["Building the library documentation is easy - you just need to call\n",
"`ApiDocs.Generate` from your FAKE script or from F# Interactive.\n",
"Assuming `root` is the root directory for your project, you can write:\n"]
          }
,
          {
           "cell_type": "code",
           "metadata": {},
            "execution_count": 3, "outputs": [], 
           "source": ["ApiDocs.GenerateHtml\n",
"  ( [ Path.Combine(root, \"bin/YourLibrary.dll\") ], \n",
"    outDir=Path.Combine(root, \"output\"),\n",
"    template=Path.Combine(root, \"templates\", \"template.html\") )\n"]
          }
,
          {
           "cell_type": "markdown",
           "metadata": {},
           
           "source": ["Adding Go to GitHub source links\n",
"-----------------\n",
"You can automatically add GitHub links to each functions, values and class members for further reference.\n",
"You need to specify two more arguments: `sourceRepo` to the GitHub repository \n",
"and `sourceFolder` to the folder where your DLLs are built.\n",
"It is assumed that `sourceRepo` and `sourceFolder` have synchronized contents.\n"]
          }
,
          {
           "cell_type": "code",
           "metadata": {},
            "execution_count": 5, "outputs": [], 
           "source": ["ApiDocs.GenerateHtml\n",
"  ( [Path.Combine(root, \"bin/YourLibrary.dll\")], \n",
"    outDir=Path.Combine(root, \"output\"),\n",
"    template=Path.Combine(root, \"templates\", \"template.html\"),\n",
"    sourceRepo = \"https://github.com/fsprojects/FSharp.Formatting\",\n",
"    sourceFolder = \"/path/to/FSharp.Formatting\" )\n",
"    \n"]
          }
,
          {
           "cell_type": "markdown",
           "metadata": {},
           
           "source": ["Searchable API docs\n",
"-----------------\n",
"By default the command-tool `fsdocs` generates a Lunr search index `index.json` in the output directory.\n",
"The source code for this documentation shows how to access this from a search box.  \n"]
          }
,
          {
           "cell_type": "code",
           "metadata": {},
            "execution_count": 5, "outputs": [], 
           "source": ["ApiDocs.GenerateHtml\n",
"  ( [Path.Combine(root, \"bin/YourLibrary.dll\")], \n",
"    outDir=Path.Combine(root, \"output\"),\n",
"    template=Path.Combine(root, \"templates\", \"template.html\"),\n",
"    sourceRepo = \"https://github.com/fsprojects/FSharp.Formatting\",\n",
"    sourceFolder = \"/path/to/FSharp.Formatting\" )\n",
"    \n"]
          }
,
          {
           "cell_type": "markdown",
           "metadata": {},
           
           "source": ["Adding cross-type links to modules and types in the same assembly\n",
"-----------------\n",
"You can automatically add cross-type links to the documentation pages of other modules and types in the same assembly.\n",
"You can do this in two different ways:\n",
"\n",
"* Add a [markdown inline link](https://github.com/adam-p/markdown-here/wiki/Markdown-Cheatsheet#links) were the link\n",
"title is the name of the type you want to link.\n",
"\n",
"\n",
"     /// this will generate a link to [Foo.Bar] documentation\n",
"\n",
"\n",
"* Add a [Markdown inline code](https://github.com/adam-p/markdown-here/wiki/Markdown-Cheatsheet#code) (using\n",
"back-ticks) where the code is the name of the type you want to link.\n",
"\n",
"\n",
"     /// This will also generate a link to `Foo.Bar` documentation\n",
"\n",
"\n",
"You can use either the full name (including namespace and module) or the simple name of a type.\n",
"If more than one type is found with the same name the link will not be generated.\n",
"If a type with the given name is not found in the same assembly the link will not be generated.\n"]
          }
,
          {
           "cell_type": "code",
           "metadata": {},
            "execution_count": 6, "outputs": [], 
           "source": ["/// Contains two types [Bar] and [Foo.Baz]\n",
"module Foo = \n",
"    \n",
"    /// Bar is just an `int` and belongs to module [Foo]\n",
"    type Bar = int\n",
"    \n",
"    /// Baz contains a `Foo.Bar` as its `id`\n",
"    type Baz = { id: Bar }\n",
"\n",
"    /// This function operates on `Baz` types.\n",
"    let f (b:Baz) = \n",
"        b.id * 42\n",
"\n",
"/// Referencing [Foo3] will not generate a link as there is no type with the name `Foo3`\n",
"module Foo3 =\n",
"    \n",
"    /// This is not the same type as `Foo.Bar`\n",
"    type Bar = double\n",
"\n",
"    /// Using the simple name for [Bar] will fail to create a link because the name is duplicated in \n",
"    /// [Foo.Bar] and in [Foo3.Bar]. In this case, using the full name works.\n",
"    let f2 b =\n",
"         b * 50\n"]
          }
,
          {
           "cell_type": "markdown",
           "metadata": {},
           
           "source": ["Excluding APIs from the docs\n",
"-----------------\n",
"\n",
"If you want to exclude modules or functions from the API docs you can use the `[omit]` tag.\n",
"It needs to be set on a separate tripple-slashed line, but it could be either the first or the last:\n",
"\n"]
          }
,
          {
           "cell_type": "code",
           "metadata": {},
            "execution_count": 7, "outputs": [], 
           "source": ["/// [omit]\n",
"/// Some actual comment\n",
"module Bar = \n",
"   let a = 42\n"]
          }
,
          {
           "cell_type": "markdown",
           "metadata": {},
           
           "source": ["Classic XML documentation comments\n",
"----------------------------------\n",
"\n",
"By default `FSharp.Formatting` will expect Markdown documentation comments, to parse XML comments\n",
"pass the named argument `markDownComments` with value `false`.\n"]
          }
,
          {
           "cell_type": "code",
           "metadata": {},
            "execution_count": 8, "outputs": [], 
           "source": ["ApiDocs.GenerateHtml\n",
"  ( [ Path.Combine(root, \"bin/YourLibrary.dll\") ], \n",
"    Path.Combine(root, \"output\"),\n",
"    template=Path.Combine(root, \"templates\", \"template.html\"),\n",
"    sourceRepo = \"https://github.com/fsprojects/FSharp.Formatting/tree/master\",\n",
"    sourceFolder = \"/path/to/FSharp.Formatting\", markDownComments = false )\n"]
          }
,
          {
           "cell_type": "markdown",
           "metadata": {},
           
           "source": ["An example of an XML documentation comment:\n"]
          }
,
          {
           "cell_type": "code",
           "metadata": {},
            "execution_count": 9, "outputs": [], 
           "source": ["/// \u003csummary\u003e\n",
"/// Some actual comment\n",
"/// \u003cpara\u003eAnother paragraph\u003c/para\u003e\n",
"/// \u003c/summary\u003e\n",
"module Foo2 = \n",
"   let a = 42\n"]
          }
,
          {
           "cell_type": "markdown",
           "metadata": {},
           
           "source": ["Note that currently our code is not handling `\u003cparameter\u003e` and `\u003cresult\u003e tags, this is \n",
"not so much of a problem given that FSharp.Formatting infers the signature via reflection.\n",
"\n",
"\n",
"## Optional parameters\n",
"\n",
"All of the three methods discussed in the previous two sections take a number of optional\n",
"parameters that can be used to tweak how the formatting works:\n",
"\n",
"\n",
"  - `outDir` - specifies the output directory where documentation should be placed\n",
"  - `template` - the template for substitutions\n",
"  - `parameters` - provides additional parameters for substitutions in the template\n",
"  - `xmlFile` - can be used to override the default name of the XML file (by default, we assume\n",
"     the file has the same name as the DLL)\n",
"  - `markDownComments` - specifies if you want to use the Markdown parser for in-code comments.\n",
"    With `markDownComments` enabled there is no support for `\u003csee cref=\"\"\u003e` links, so `false` is \n",
"    recommended for C# assemblies (if not specified, `true` is used).\n",
"  - `template` - the templates to be used for documentation pages\n",
"  - `sourceFolder` and `sourceRepo` - When specified, the documentation generator automatically\n",
"    generates links to GitHub pages for each entity.\n",
"  - `publicOnly` - When set to `false`, the tool will also generate documentation for non-public members\n",
"  - `libDirs` - Use this to specify additional paths where referenced DLL files can be found\n",
"  - `otherFlags` - Additional flags that are passed to the F# compiler (you can use this if you want to \n",
"    specify references explicitly etc.)\n",
"  - `urlRangeHighlight` - A function that can be used to override the default way of generating GitHub links\n",
"\n",
"\n",
"\n",
"\n"]
          }],
            "metadata": {
            "kernelspec": {"display_name": ".NET (F#)", "language": "F#", "name": ".net-fsharp"},
            "langauge_info": {
        "file_extension": ".fs",
        "mimetype": "text/x-fsharp",
        "name": "C#",
        "pygments_lexer": "fsharp",
        "version": "4.5"
        }
        },
            "nbformat": 4,
            "nbformat_minor": 1
        }
        
