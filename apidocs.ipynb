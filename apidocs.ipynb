
{
 "cells": [
  {
   "cell_type": "markdown",
   "metadata": {},
   
   "source": [
    
   ]
  }
,
  {
   "cell_type": "code",
   "metadata": {
    "dotnet_interactive": {
     "language": "fsharp"
    },
    "polyglot_notebook": {
     "kernelName": "fsharp"
    }
   },
   "execution_count": null, "outputs": [],
   "source": [
    "#r \"nuget: FSharp.Formatting,1.0.0\"\n"
   ]
  }
,
  {
   "cell_type": "markdown",
   "metadata": {},
   
   "source": [
    "[![Binder](img/badge-binder.svg)](https://mybinder.org/v2/gh/fsprojects/fsharp.formatting/gh-pages?filepath=apidocs.ipynb)\u0026emsp;\n",
    "[![Script](img/badge-script.svg)](https://fsprojects.github.io/FSharp.Formatting//apidocs.fsx)\u0026emsp;\n",
    "[![Notebook](img/badge-notebook.svg)](https://fsprojects.github.io/FSharp.Formatting//apidocs.ipynb)\n",
    "\n",
    "# API Documentation Generation\n",
    "\n",
    "The [command-line tool `fsdocs`](commandline.html) can be used to generate documentation\n",
    "for F# libraries with XML comments.  The documentation is normally built using `fsdocs build` and developed using `fsdocs watch`. For\n",
    "the former the output will be placed in `output\\reference` by default.\n",
    "\n",
    "## Selected projects\n",
    "\n",
    "`fsdocs` automatically selects the projects and \"cracks\" the project files for information\n",
    "\n",
    "* Projects with `GenerateDocumentationFile` and without `IsTestProject` are selected.\n",
    "\n",
    "* If Projects use `TargetFrameworks` (not `TargetFramework`, singular) only the firts target framework will be used to build the docs.\n",
    "\n",
    "```text\n",
    "    \u003cPropertyGroup\u003e\n",
    "      \u003cGenerateDocumentationFile\u003etrue\u003c/GenerateDocumentationFile\u003e\n",
    "    \u003c/PropertyGroup\u003e\n",
    "```\n",
    "\n",
    "## Templates\n",
    "\n",
    "The HTML is built by instantiating a template. The template used is the first of:\n",
    "\n",
    "* `docs/reference/_template.html`\n",
    "  \n",
    "\n",
    "* `docs/_template.html`\n",
    "  \n",
    "\n",
    "* The default template\n",
    "  \n",
    "\n",
    "Usually, the same template can be used as for [other content](content.html).\n",
    "\n",
    "## Classic XML Doc Comments\n",
    "\n",
    "XML Doc Comments may use [the normal F# and C# XML doc standards](https://learn.microsoft.com/en-us/dotnet/csharp/programming-guide/xmldoc/).\n",
    "\n",
    "The tags that form the core of the XML doc specification are:\n",
    "\n",
    "```\n",
    "\u003cc\u003e\t\u003cpara\u003e\t\u003csee\u003e*\t\u003cvalue\u003e\n",
    "\u003ccode\u003e\t\u003cparam\u003e*\t\u003cseealso\u003e*\n",
    "\u003cexample\u003e\t\u003cparamref\u003e\t\u003csummary\u003e\n",
    "\u003cexception\u003e*\t\u003cpermission\u003e*\t\u003ctypeparam\u003e*\n",
    "\u003cinclude\u003e*\t\u003cremarks\u003e\t\u003ctypeparamref\u003e\n",
    "\u003clist\u003e\t\u003cinheritdoc\u003e\t\u003creturns\u003e\n",
    "```\n",
    "\n",
    "In addition, you may also use the [Recommended XML doc extensions for F# documentation tooling](https://github.com/fsharp/fslang-design/blob/master/tooling/FST-1031-xmldoc-extensions.md).\n",
    "\n",
    "* `\u003ca href = \"...\"\u003e` links\n",
    "  \n",
    "\n",
    "* Arbitrary paragraph-level HTML such as `\u003cb\u003e` for bold in XML doc text\n",
    "  \n",
    "\n",
    "* `\u003cnamespacedoc\u003e` giving documentation for the enclosing namespace\n",
    "  \n",
    "\n",
    "* `\u003cexclude/\u003e` to exclude from XML docs\n",
    "  \n",
    "\n",
    "* `\u003ccategory\u003e` to give a category for an entity or member. An optional `index` attribute can be specified\n",
    "to help sort the list of categories.\n",
    "  \n",
    "\n",
    "* `\\(...\\)` for inline math and `$$...$$` and `\\[...\\]`for math environments, see [http://docs.mathjax.org.\n",
    "Some](http://docs.mathjax.org.\n",
    "Some) escaping of characters (e.g. `\u0026lt;`, `\u0026gt;`) may be needed to form valid XML\n",
    "  \n",
    "\n",
    "An example of an XML documentation comment, assuming the code is in the namespace `TheNamespace`:\n",
    "\n"
   ]
  }
,
  {
   "cell_type": "code",
   "metadata": {
    "dotnet_interactive": {
     "language": "fsharp"
    },
    "polyglot_notebook": {
     "kernelName": "fsharp"
    }
   },
   "execution_count": null, "outputs": [],
   "source": [
    "/// \u003csummary\u003e\n",
    "///   A module\n",
    "/// \u003c/summary\u003e\n",
    "///\n",
    "/// \u003cnamespacedoc\u003e\n",
    "///   \u003csummary\u003eA namespace to remember\u003c/summary\u003e\n",
    "///\n",
    "///   \u003cremarks\u003eMore on that\u003c/remarks\u003e\n",
    "/// \u003c/namespacedoc\u003e\n",
    "///\n",
    "module SomeModule =\n",
    "    /// \u003csummary\u003e\n",
    "    ///   Some actual comment\n",
    "    ///   \u003cpara\u003eAnother paragraph, see  \u003csee cref=\"T:TheNamespace.SomeType\"/\u003e. \u003c/para\u003e\n",
    "    /// \u003c/summary\u003e\n",
    "    ///\n",
    "    /// \u003cparam name=\"x\"\u003eThe input\u003c/param\u003e\n",
    "    ///\n",
    "    /// \u003creturns\u003eThe output\u003c/returns\u003e\n",
    "    ///\n",
    "    /// \u003cexample\u003e\n",
    "    ///   Try using\n",
    "    ///   \u003ccode\u003e\n",
    "    ///      open TheNamespace\n",
    "    ///      SomeModule.a\n",
    "    ///   \u003c/code\u003e\n",
    "    /// \u003c/example\u003e\n",
    "    ///\n",
    "    /// \u003ccategory\u003eFoo\u003c/category\u003e\n",
    "    let someFunction x = 42 + x\n",
    "\n",
    "/// \u003csummary\u003e\n",
    "///   A type, see  \u003csee cref=\"T:TheNamespace.SomeModule\"/\u003e and\n",
    "///  \u003csee cref=\"M:TheNamespace.SomeModule.someFunction\"/\u003e.\n",
    "/// \u003c/summary\u003e\n",
    "///\n",
    "type SomeType() =\n",
    "    member x.P = 1\n"
   ]
  }
,
  {
   "cell_type": "markdown",
   "metadata": {},
   
   "source": [
    "Like types, members are referred to by xml doc sig.  These must currently be precise as the F#\n",
    "compiler doesn\u0027t elaborate these references from simpler names:\n",
    "\n"
   ]
  }
,
  {
   "cell_type": "code",
   "metadata": {
    "dotnet_interactive": {
     "language": "fsharp"
    },
    "polyglot_notebook": {
     "kernelName": "fsharp"
    }
   },
   "execution_count": null, "outputs": [],
   "source": [
    "type Class2() =\n",
    "    member this.Property = \"more\"\n",
    "    member this.Method0() = \"more\"\n",
    "    member this.Method1(c: string) = \"more\"\n",
    "    member this.Method2(c: string, o: obj) = \"more\"\n",
    "\n",
    "/// \u003csee cref=\"P:TheNamespace.Class2.Property\" /\u003e\n",
    "/// and \u003csee cref=\"M:TheNamespace.Class2.OtherMethod0\" /\u003e\n",
    "/// and \u003csee cref=\"M:TheNamespace.Class2.Method1(System.String)\" /\u003e\n",
    "/// and \u003csee cref=\"M:TheNamespace.Class2.Method2(System.String,System.Object)\" /\u003e\n",
    "let referringFunction1 () = \"result\"\n"
   ]
  }
,
  {
   "cell_type": "markdown",
   "metadata": {},
   
   "source": [
    "Generic types are referred to by .NET compiled name, e.g.\n",
    "\n"
   ]
  }
,
  {
   "cell_type": "code",
   "metadata": {
    "dotnet_interactive": {
     "language": "fsharp"
    },
    "polyglot_notebook": {
     "kernelName": "fsharp"
    }
   },
   "execution_count": null, "outputs": [],
   "source": [
    "type GenericClass2\u003c\u0027T\u003e() =\n",
    "    member this.Property = \"more\"\n",
    "\n",
    "    member this.NonGenericMethod(_c: \u0027T) = \"more\"\n",
    "\n",
    "    member this.GenericMethod(_c: \u0027T, _o: \u0027U) = \"more\"\n",
    "\n",
    "/// See \u003csee cref=\"T:TheNamespace.GenericClass2`1\" /\u003e\n",
    "/// and \u003csee cref=\"P:TheNamespace.GenericClass2`1.Property\" /\u003e\n",
    "/// and \u003csee cref=\"M:TheNamespace.GenericClass2`1.NonGenericMethod(`0)\" /\u003e\n",
    "/// and \u003csee cref=\"M:TheNamespace.GenericClass2`1.GenericMethod``1(`0,``0)\" /\u003e\n",
    "let referringFunction2 () = \"result\"\n"
   ]
  }
,
  {
   "cell_type": "markdown",
   "metadata": {},
   
   "source": [
    "### Cross-referencing with \u0026lt;seealso\u0026gt;\n",
    "\n",
    "Use `\u003cseealso cref=\"...\"/\u003e` within `\u003csummary\u003e` to create cross-references.\n",
    "\n",
    "For example:\n",
    "\n"
   ]
  }
,
  {
   "cell_type": "code",
   "metadata": {
    "dotnet_interactive": {
     "language": "fsharp"
    },
    "polyglot_notebook": {
     "kernelName": "fsharp"
    }
   },
   "execution_count": null, "outputs": [],
   "source": [
    "module Forest =\n",
    "\n",
    "    /// \u003csummary\u003e\n",
    "    /// Find at most \u003cc\u003elimit\u003c/c\u003e foxes in current forest\n",
    "    ///\n",
    "    /// See also: \u003cseealso cref=\"M:App.Forest.findSquirrels(System.Int32)\"/\u003e\n",
    "    /// \u003c/summary\u003e\n",
    "    let findFoxes (limit : int) = []\n",
    "\n",
    "    /// \u003csummary\u003e\n",
    "    /// Find at most \u003cc\u003elimit\u003c/c\u003e squirrels in current forest\n",
    "    ///\n",
    "    /// See also: \u003cseealso cref=\"M:App.Forest.findFoxes(System.Int32)\"/\u003e\n",
    "    /// \u003c/summary\u003e\n",
    "    let findSquirrels (limit : int) = []\n"
   ]
  }
,
  {
   "cell_type": "markdown",
   "metadata": {},
   
   "source": [
    "You can find the correct value for `cref` in the generated `.xml` documentation file (this will be generated alongside the assembly\u0027s `.dll``).\n",
    "\n",
    "You can also omit the `cref`\u0027s arguments, and `fsdocs` will make an attempt to find the first member that matches.\n",
    "\n",
    "For example:\n",
    "\n",
    "```\n",
    "    /// See also: \u003cseealso cref=\"M:App.Forest.findSquirrels\"/\u003e\n",
    "```\n",
    "\n",
    "If the member cannot be found, a link to the containing module/type will be used instead.\n",
    "\n",
    "### Classic XMl Doc Comments: Excluding APIs from the docs\n",
    "\n",
    "If you want to exclude modules or functions from the API docs, you can use the `\u003cexclude/\u003e` tag.\n",
    "It needs to be set on a separate triple-slashed line, and can either appear on its own or as part\n",
    "of an existing `\u003csummary\u003e` (for example, you may wish to hide existing documentation while it\u0027s in progress).\n",
    "The `\u003cexclude/\u003e` tag can be the first or last line in these cases.\n",
    "\n",
    "Some examples:\n",
    "\n"
   ]
  }
,
  {
   "cell_type": "code",
   "metadata": {
    "dotnet_interactive": {
     "language": "fsharp"
    },
    "polyglot_notebook": {
     "kernelName": "fsharp"
    }
   },
   "execution_count": null, "outputs": [],
   "source": [
    "/// \u003cexclude/\u003e\n",
    "module BottleKids1 =\n",
    "    let a = 42\n",
    "\n",
    "// Ordinary comment\n",
    "/// \u003cexclude/\u003e\n",
    "module BottleKids2 =\n",
    "    let a = 43\n",
    "\n",
    "/// \u003cexclude/\u003e\n",
    "/// BottleKids3 provides improvements over BottleKids2\n",
    "module BottleKids3 =\n",
    "    let a = 44\n",
    "\n",
    "/// BottleKids4 implements several new features over BottleKids3\n",
    "/// \u003cexclude/\u003e\n",
    "module BottleKids4 =\n",
    "    let a = 45\n",
    "\n",
    "/// \u003cexclude/\u003e\n",
    "/// \u003csummary\u003e\n",
    "/// BottleKids5 is all you\u0027ll ever need in terms of bottles or kids.\n",
    "/// \u003c/summary\u003e\n",
    "module BottleKids5 =\n",
    "    let a = 46\n"
   ]
  }
,
  {
   "cell_type": "markdown",
   "metadata": {},
   
   "source": [
    "Note that the comments for `BottleKids3` (and `BottleKids4`) will generate a warning. This is because\n",
    "the `\u003cexclude/\u003e` tag will be parsed as part of the `summary` text, and so the documentation generator\n",
    "can\u0027t be completely sure you meant to exclude the item, or whether it was a valid part of the documentation.\n",
    "It will assume the exclusion was intended, but you may want to use explicit `\u003csummary\u003e` tags to remove\n",
    "the warning.\n",
    "\n",
    "The warning will be of the following format:\n",
    "\n",
    "```\n",
    "Warning: detected \"\u003cexclude/\u003e\" in text of \"\u003csummary\u003e\" for \"M:YourLib.BottleKids4\". Please see https://fsprojects.github.io/FSharp.Formatting/apidocs.html#Classic-XML-Doc-Comments\n",
    "```\n",
    "You will find that `[omit]` also works, but is considered part of the Markdown syntax and is\n",
    "deprecated for XML Doc comments. This will also produce a warning, such as this:\n",
    "\n",
    "```\n",
    "The use of `[omit]` and other commands in XML comments is deprecated, please use XML extensions, see https://github.com/fsharp/fslang-design/blob/master/tooling/FST-1031-xmldoc-extensions.md\n",
    "```\n",
    "\n",
    "\n",
    "## Go to Source links\n",
    "\n",
    "\u0027fsdocs\u0027 normally automatically adds GitHub links to each functions, values and class members for further reference.\n",
    "\n",
    "This is normally done automatically based on the following settings:\n",
    "\n",
    "```xml\n",
    "    \u003cRepositoryUrl\u003ehttps://github.com/...\u003c/RepositoryUrl\u003e\n",
    "    \u003cRepositoryBranch\u003e...\u003c/RepositoryBranch\u003e\n",
    "    \u003cRepositoryType\u003egit\u003c/RepositoryType\u003e\n",
    "```\n",
    "\n",
    "If your source is not built from the same project where you are building documentation then\n",
    "you may need these settings:\n",
    "\n",
    "```xml\n",
    "    \u003cFsDocsSourceRepository\u003e...\u003c/FsDocsSourceRepository\u003e -- the URL for the root of the source\n",
    "    \u003cFsDocsSourceFolder\u003e...\u003c/FsDocsSourceFolder\u003e         -- the root soure folder at time of build\n",
    "```\n",
    "\n",
    "It is assumed that `sourceRepo` and `sourceFolder` have synchronized contents.\n",
    "\n",
    "## Markdown Comments\n",
    "\n",
    "You can use Markdown instead of XML in `///` comments. If you do, you should set `\u003cUsesMarkdownComments\u003etrue\u003c/UsesMarkdownComments\u003e` in\n",
    "your F# project file.\n",
    "\n",
    "\u003e Note: Markdown Comments are not supported in all F# IDE tooling.\n",
    "\u003e \n",
    "\n",
    "### Adding cross-type links to modules and types in the same assembly\n",
    "\n",
    "You can automatically add cross-type links to the documentation pages of other modules and types in the same assembly.\n",
    "You can do this in two different ways:\n",
    "\n",
    "* Add a [markdown inline link](https://github.com/adam-p/markdown-here/wiki/Markdown-Cheatsheet#links) were the link\n",
    "title is the name of the type you want to link.\n",
    "  \n",
    "\n",
    "      /// This will generate a link to [Foo.Bar] documentation\n",
    "  \n",
    "\n",
    "* Add a [Markdown inline code](https://github.com/adam-p/markdown-here/wiki/Markdown-Cheatsheet#code) (using\n",
    "back-ticks) where the code is the name of the type you want to link.\n",
    "  \n",
    "\n",
    "      /// This will also generate a link to `Foo.Bar` documentation\n",
    "  \n",
    "\n",
    "You can use either the full name (including namespace and module) or the simple name of a type.\n",
    "If more than one type is found with the same name, the link will not be generated.\n",
    "If a type with the given name is not found in the same assembly, the link will not be generated.\n",
    "\n"
   ]
  }
,
  {
   "cell_type": "code",
   "metadata": {
    "dotnet_interactive": {
     "language": "fsharp"
    },
    "polyglot_notebook": {
     "kernelName": "fsharp"
    }
   },
   "execution_count": null, "outputs": [],
   "source": [
    "/// Contains two types [Bar] and [Foo.Baz]\n",
    "module Foo =\n",
    "\n",
    "    /// Bar is just an `int` and belongs to module [Foo]\n",
    "    type Bar = int\n",
    "\n",
    "    /// Baz contains a `Foo.Bar` as its `id`\n",
    "    type Baz = { id: Bar }\n",
    "\n",
    "    /// This function operates on `Baz` types.\n",
    "    let f (b: Baz) = b.id * 42\n",
    "\n",
    "/// Referencing [Foo3] will not generate a link as there is no type with the name `Foo3`\n",
    "module Foo3 =\n",
    "\n",
    "    /// This is not the same type as `Foo.Bar`\n",
    "    type Bar = double\n",
    "\n",
    "    /// Using the simple name for [Bar] will fail to create a link because the name is duplicated in\n",
    "    /// [Foo.Bar] and in [Foo3.Bar]. In this case, using the full name works.\n",
    "    let f2 b = b * 50\n"
   ]
  }
,
  {
   "cell_type": "markdown",
   "metadata": {},
   
   "source": [
    "### Markdown Comments: Excluding APIs from the docs\n",
    "\n",
    "If you want to exclude modules or functions from the API docs you can use the `[omit]` tag.\n",
    "It needs to be set on a separate triple-slashed line, but it could be either the first or the last:\n",
    "\n",
    "Example as last line:\n",
    "\n"
   ]
  }
,
  {
   "cell_type": "code",
   "metadata": {
    "dotnet_interactive": {
     "language": "fsharp"
    },
    "polyglot_notebook": {
     "kernelName": "fsharp"
    }
   },
   "execution_count": null, "outputs": [],
   "source": [
    "/// Some actual comment\n",
    "/// [omit]\n",
    "module Bar =\n",
    "    let a = 42\n"
   ]
  }
,
  {
   "cell_type": "markdown",
   "metadata": {},
   
   "source": [
    "Example as the first line:\n",
    "\n"
   ]
  }
,
  {
   "cell_type": "code",
   "metadata": {
    "dotnet_interactive": {
     "language": "fsharp"
    },
    "polyglot_notebook": {
     "kernelName": "fsharp"
    }
   },
   "execution_count": null, "outputs": [],
   "source": [
    "/// [omit]\n",
    "/// Some actual comment\n",
    "module Bar2 =\n",
    "    let a = 42\n"
   ]
  }
,
  {
   "cell_type": "markdown",
   "metadata": {},
   
   "source": [
    "## Building library documentation programmatically\n",
    "\n",
    "You can build library documentation programmatically using the functionality\n",
    "in the [ApiDocs](https://fsprojects.github.io/FSharp.Formatting/reference/fsharp-formatting-apidocs-apidocs.html) type. To do this, load the assembly and open the necessary namespaces:\n",
    "\n"
   ]
  }
,
  {
   "cell_type": "code",
   "metadata": {
    "dotnet_interactive": {
     "language": "fsharp"
    },
    "polyglot_notebook": {
     "kernelName": "fsharp"
    }
   },
   "execution_count": null, "outputs": [],
   "source": [
    "#r \"FSharp.Formatting.ApiDocs.dll\"\n",
    "\n",
    "open FSharp.Formatting.ApiDocs\n",
    "open System.IO\n"
   ]
  }
,
  {
   "cell_type": "markdown",
   "metadata": {},
   
   "source": [
    "For example the [ApiDocs.GenerateHtml](https://fsprojects.github.io/FSharp.Formatting/reference/fsharp-formatting-apidocs-apidocs.html#GenerateHtml) method:\n",
    "\n"
   ]
  }
,
  {
   "cell_type": "code",
   "metadata": {
    "dotnet_interactive": {
     "language": "fsharp"
    },
    "polyglot_notebook": {
     "kernelName": "fsharp"
    }
   },
   "execution_count": null, "outputs": [],
   "source": [
    "let file = Path.Combine(root, \"bin/YourLibrary.dll\")\n",
    "\n",
    "let input = ApiDocInput.FromFile(file)\n",
    "\n",
    "ApiDocs.GenerateHtml(\n",
    "    [ input ],\n",
    "    output = Path.Combine(root, \"output\"),\n",
    "    collectionName = \"YourLibrary\",\n",
    "    template = Path.Combine(root, \"templates\", \"template.html\"),\n",
    "    substitutions = []\n",
    ")\n"
   ]
  }
,
  {
   "cell_type": "markdown",
   "metadata": {},
   
   "source": [
    "### Adding extra dependencies\n",
    "\n",
    "When building a library programmatically, you might require a reference to an additional assembly.\n",
    "You can pass this using the `otherFlags` argument.\n",
    "\n"
   ]
  }
,
  {
   "cell_type": "code",
   "metadata": {
    "dotnet_interactive": {
     "language": "fsharp"
    },
    "polyglot_notebook": {
     "kernelName": "fsharp"
    }
   },
   "execution_count": null, "outputs": [],
   "source": [
    "let projectAssembly = Path.Combine(root, \"bin/X.dll\")\n",
    "\n",
    "let projectInput = ApiDocInput.FromFile(projectAssembly)\n",
    "\n",
    "ApiDocs.GenerateHtml(\n",
    "    [ projectInput ],\n",
    "    output = Path.Combine(root, \"output\"),\n",
    "    collectionName = \"Project X\",\n",
    "    template = Path.Combine(root, \"templates\", \"template.html\"),\n",
    "    substitutions = [],\n",
    "    otherFlags = [ \"-r:/root/ProjectY/bin/Debug/net6.0/Y.dll\" ]\n",
    ")\n"
   ]
  }
,
  {
   "cell_type": "markdown",
   "metadata": {},
   
   "source": [
    "or use `libDirs` to include all assemblies from an entire folder.\n",
    "Tip: A combination of `\u003cCopyLocalLockFileAssemblies\u003etrue\u003c/CopyLocalLockFileAssemblies\u003e` in the fsproj file and setting `libDirs` to the compilation output path leads to only one folder with all dependencies referenced.\n",
    "This might be easier, especially for large projects with many dependencies.\n",
    "\n"
   ]
  }
,
  {
   "cell_type": "code",
   "metadata": {
    "dotnet_interactive": {
     "language": "fsharp"
    },
    "polyglot_notebook": {
     "kernelName": "fsharp"
    }
   },
   "execution_count": null, "outputs": [],
   "source": [
    "ApiDocs.GenerateHtml(\n",
    "    [ projectInput ],\n",
    "    output = Path.Combine(root, \"output\"),\n",
    "    collectionName = \"Project X\",\n",
    "    template = Path.Combine(root, \"templates\", \"template.html\"),\n",
    "    substitutions = [],\n",
    "    libDirs = [ \"ProjectX/bin/Debug/netstandard2.0\" ]\n",
    ")\n"
   ]
  }
,
  {
   "cell_type": "markdown",
   "metadata": {},
   
   "source": [
    "## Rebasing Links\n",
    "\n",
    "The `root` parameter is used for the base of page and image links in the generated documentation. By default, it is derived from the project\u0027s `\u003cPackageProjectUrl\u003e` property.\n",
    "\n",
    "In some instances, you may wish to override the value for `root` (perhaps for local testing). To do this, you can use the command-line argument `--parameters root \u003cbase\u003e`.\n",
    "\n",
    "For example:\n",
    "\n",
    "    [lang=text]\n",
    "    dotnet fsdocs build --output public/docs --parameters root ../\n",
    "\n",
    "\n"
   ]
  }
 ],
 "metadata": {
  "kernelspec": {
   "display_name": ".NET (F#)",
   "language": "F#",
   "name": ".net-fsharp"
  },
  "language_info": {
   "file_extension": ".fs",
   "mimetype": "text/x-fsharp",
   "name": "polyglot-notebook",
   "pygments_lexer": "fsharp"
  },
  "polyglot_notebook": {
   "kernelInfo": {
    "defaultKernelName": "fsharp",
    "items": [
     {
      "aliases": [],
      "languageName": "fsharp",
      "name": "fsharp"
     }
    ]
   }
  }
 },
 "nbformat": 4,
 "nbformat_minor": 2
}

