
        {
            "cells": [
          {
           "cell_type": "code",
           "metadata": {},
            "execution_count": null, "outputs": [], 
           "source": ["#r \"nuget: FSharp.Formatting,7.1.0\"\n"]
          }
,
          {
           "cell_type": "markdown",
           "metadata": {},
           
           "source": ["API Documentation generation \n",
"====================================\n",
"\n",
"The [command-line tool `fsdocs`](commandline.html) can be used to generate documentation \n",
"for F# libraries with XML comments.  The documentation is normally built using `fsdocs build` and developed using `fsdocs watch`. For\n",
"the former the output will be placed in `output\\reference` by default.\n",
"\n",
"## Templates\n",
"\n",
"The HTML is built by instantiating a template. The template used is the first of:\n",
"\n",
"* `docs/reference/_template.html` \n",
"\n",
"* `docs/_template.html`\n",
"\n",
"* The default template\n",
"\n",
"Usually the same template can be used as for [other content](content.html).\n",
"\n",
"## Classic XML Comments\n",
"\n",
"XML Comments may use [the normal F# and C# XML doc standards](https://docs.microsoft.com/en-us/dotnet/csharp/programming-guide/xmldoc/).\n",
"\n",
"An example of an XML documentation comment:\n"]
          }
,
          {
           "cell_type": "code",
           "metadata": {},
            "execution_count": null, "outputs": [], 
           "source": ["/// \u003csummary\u003e\n",
"/// Some actual comment\n",
"/// \u003cpara\u003eAnother paragraph\u003c/para\u003e\n",
"/// \u003c/summary\u003e\n",
"module Foo2 = \n",
"   let a = 42\n"]
          }
,
          {
           "cell_type": "markdown",
           "metadata": {},
           
           "source": ["## Go to Source links\n",
"\n",
"\u0027fsdocs\u0027 normally automatically adds GitHub links to each functions, values and class members for further reference.\n",
"\n",
"This is normally done automatically based on the following settings:\n",
"\n",
"    \u003cRepositoryUrl\u003ehttps://github.com/...\u003c/RepositoryUrl\u003e\n",
"    \u003cRepositoryBranch\u003e...\u003c/RepositoryBranch\u003e\n",
"    \u003cRepositoryType\u003egit\u003c/RepositoryType\u003e\n",
"\n",
"If your source is not built from the same project where you are building documentation then\n",
"you may need these settings:\n",
"\n",
"    \u003cFsDocsSourceRepository\u003e...\u003c/FsDocsSourceRepository\u003e -- the URL for the root of the source \n",
"    \u003cFsDocsSourceFolder\u003e...\u003c/FsDocsSourceFolder\u003e         -- the root soure folder at time of build\n",
"\n",
"It is assumed that `sourceRepo` and `sourceFolder` have synchronized contents.\n",
"\n",
"## Markdown Comments\n",
"\n",
"You can use Markdown instead of XML in `///` comments. If you do, you should set `\u003cUsesMarkdownComments\u003e` in\n",
"your F# project file.\n",
"\n",
"\u003e Note: Markdown Comments are not supported in all F# IDE tooling.\n",
"\n",
"### Adding cross-type links to modules and types in the same assembly\n",
"\n",
"You can automatically add cross-type links to the documentation pages of other modules and types in the same assembly.\n",
"You can do this in two different ways:\n",
"\n",
"* Add a [markdown inline link](https://github.com/adam-p/markdown-here/wiki/Markdown-Cheatsheet#links) were the link\n",
"title is the name of the type you want to link.\n",
"\n",
"      /// this will generate a link to [Foo.Bar] documentation\n",
"\n",
"* Add a [Markdown inline code](https://github.com/adam-p/markdown-here/wiki/Markdown-Cheatsheet#code) (using\n",
"back-ticks) where the code is the name of the type you want to link.\n",
"\n",
"      /// This will also generate a link to `Foo.Bar` documentation\n",
"\n",
"You can use either the full name (including namespace and module) or the simple name of a type.\n",
"If more than one type is found with the same name the link will not be generated.\n",
"If a type with the given name is not found in the same assembly the link will not be generated.\n"]
          }
,
          {
           "cell_type": "code",
           "metadata": {},
            "execution_count": null, "outputs": [], 
           "source": ["/// Contains two types [Bar] and [Foo.Baz]\n",
"module Foo = \n",
"    \n",
"    /// Bar is just an `int` and belongs to module [Foo]\n",
"    type Bar = int\n",
"    \n",
"    /// Baz contains a `Foo.Bar` as its `id`\n",
"    type Baz = { id: Bar }\n",
"\n",
"    /// This function operates on `Baz` types.\n",
"    let f (b:Baz) = \n",
"        b.id * 42\n",
"\n",
"/// Referencing [Foo3] will not generate a link as there is no type with the name `Foo3`\n",
"module Foo3 =\n",
"    \n",
"    /// This is not the same type as `Foo.Bar`\n",
"    type Bar = double\n",
"\n",
"    /// Using the simple name for [Bar] will fail to create a link because the name is duplicated in \n",
"    /// [Foo.Bar] and in [Foo3.Bar]. In this case, using the full name works.\n",
"    let f2 b =\n",
"         b * 50\n"]
          }
,
          {
           "cell_type": "markdown",
           "metadata": {},
           
           "source": ["### Markdown Comments: Excluding APIs from the docs\n",
"\n",
"If you want to exclude modules or functions from the API docs you can use the `[omit]` tag.\n",
"It needs to be set on a separate tripple-slashed line, but it could be either the first or the last:\n",
"\n"]
          }
,
          {
           "cell_type": "code",
           "metadata": {},
            "execution_count": null, "outputs": [], 
           "source": ["/// [omit]\n",
"/// Some actual comment\n",
"module Bar = \n",
"   let a = 42\n"]
          }
,
          {
           "cell_type": "markdown",
           "metadata": {},
           
           "source": ["## Building library documentation programmatically\n",
"\n",
"You can build library documentation programatically. To do this, load the assembly and open necessary namespaces:\n"]
          }
,
          {
           "cell_type": "code",
           "metadata": {},
            "execution_count": null, "outputs": [], 
           "source": ["#r \"FSharp.Formatting.ApiDocs.dll\"\n",
"open FSharp.Formatting.ApiDocs\n",
"open System.IO\n"]
          }
,
          {
           "cell_type": "markdown",
           "metadata": {},
           
           "source": ["Building the library documentation is easy - you just need to call\n",
"`ApiDocs.Generate` from your FAKE script or from F# Interactive.\n",
"Assuming `root` is the root directory for your project, you can write:\n"]
          }
,
          {
           "cell_type": "code",
           "metadata": {},
            "execution_count": null, "outputs": [], 
           "source": ["let file = Path.Combine(root, \"bin/YourLibrary.dll\")\n",
"let input = ApiDocInput.FromFile(file) \n",
"ApiDocs.GenerateHtml\n",
"    ( [ input ], \n",
"      output=Path.Combine(root, \"output\"),\n",
"      collectionName=\"YourLibrary\",\n",
"      template=Path.Combine(root, \"templates\", \"template.html\"),\n",
"      parameters=[])\n"]
          }],
            "metadata": {
            "kernelspec": {"display_name": ".NET (F#)", "language": "F#", "name": ".net-fsharp"},
            "langauge_info": {
        "file_extension": ".fs",
        "mimetype": "text/x-fsharp",
        "name": "C#",
        "pygments_lexer": "fsharp",
        "version": "4.5"
        }
        },
            "nbformat": 4,
            "nbformat_minor": 1
        }
        
