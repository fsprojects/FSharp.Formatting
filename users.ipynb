
{
 "cells": [
  {
   "cell_type": "markdown",
   "metadata": {},
   
   "source": [
    "# Users of FSharp.Formatting\n",
    "\n",
    "The FSharp.Formatting documentation tool is widely used within the F# community.\n",
    "Here is a non-exhaustive list of projects:\n",
    "\n"
   ]
  }
,
  {
   "cell_type": "code",
   "metadata": {
    "dotnet_interactive": {
     "language": "fsharp"
    },
    "polyglot_notebook": {
     "kernelName": "fsharp"
    }
   },
   "execution_count": null, "outputs": [],
   "source": [
    "\u003c!-- temporary --\u003e\n",
    "\u003cstyle\u003e\n",
    "table { table-layout: fixed; }\n",
    "tr td { padding: 15px 0; }\n",
    "tr td p { margin: 0 }\n",
    "tr th:first-child, tr td:first-child { width: 20%; }\n",
    "tr th:last-child, tr td:last-child { width: 35% }\n",
    "\u003c/style\u003e\n"
   ]
  }
,
  {
   "cell_type": "markdown",
   "metadata": {},
   
   "source": [
    "Project name | Repository | Note\n",
    "--- | :--- | --- | ---\n",
    "[FSharp.Formatting](https://fsprojects.github.io/FSharp.Formatting/) | \u0026#32; | [[https://github.com/fsprojects/FSharp.Formatting/](https://github.com/fsprojects/FSharp.Formatting/)](https://github.com/fsprojects/FSharp.Formatting/) | \u0026#32;\n",
    "[F# compiler guide](https://fsharp.github.io/fsharp-compiler-docs/) | \u0026#32; | [[https://github.com/dotnet/fsharp/](https://github.com/dotnet/fsharp/)](https://github.com/dotnet/fsharp/) | The documentation is generated and published from [[https://github.com/fsharp/fsharp-compiler-docs](https://github.com/fsharp/fsharp-compiler-docs)](https://github.com/fsharp/fsharp-compiler-docs)\n",
    "[F# Core Library Documentation](https://fsharp.github.io/fsharp-core-docs/) | \u0026#32; | [[https://github.com/dotnet/fsharp/](https://github.com/dotnet/fsharp/)](https://github.com/dotnet/fsharp/) | The documentation is generated and published from [[https://github.com/fsharp/fsharp-core-docs](https://github.com/fsharp/fsharp-core-docs)](https://github.com/fsharp/fsharp-core-docs)\n",
    "[FsLexYacc](https://fsprojects.github.io/FsLexYacc) | \u0026#32; | [[https://github.com/fsprojects/fslexYacc/](https://github.com/fsprojects/fslexYacc/)](https://github.com/fsprojects/fslexYacc/) | \u0026#32;\n",
    "[FSharp.Data](https://fsprojects.github.io/FSharp.Data/) | \u0026#32; | [[https://github.com/fsprojects/FSharp.Data/](https://github.com/fsprojects/FSharp.Data/)](https://github.com/fsprojects/FSharp.Data/) | \u0026#32;\n",
    "[Plotly.NET](https://plotly.net/) | \u0026#32; | [[https://github.com/plotly/Plotly.NET](https://github.com/plotly/Plotly.NET)](https://github.com/plotly/Plotly.NET) | \u0026#32;\n",
    "[FSharp.Stats](https://fslab.org/FSharp.Stats/) | \u0026#32; | [[https://github.com/fslaborg/FSharp.Stats/](https://github.com/fslaborg/FSharp.Stats/)](https://github.com/fslaborg/FSharp.Stats/) | \u0026#32;\n",
    "[FsHttp](https://fsprojects.github.io/FsHttp/) | \u0026#32; | [[https://github.com/fsprojects/FsHttp/](https://github.com/fsprojects/FsHttp/)](https://github.com/fsprojects/FsHttp/) | \u0026#32;\n",
    "[Fantomas](https://fsprojects.github.io/fantomas/docs/) | \u0026#32; | [[https://github.com/fsprojects/fantomas/](https://github.com/fsprojects/fantomas/)](https://github.com/fsprojects/fantomas/) | \u0026#32;\n",
    "[Telplin](https://nojaf.com/telplin/docs/) | \u0026#32; | [[https://github.com/nojaf/telplin/](https://github.com/nojaf/telplin/)](https://github.com/nojaf/telplin/) | \u0026#32;\n",
    "[FSharp.Data.Fred](https://github.com/nhirschey/FSharp.Data.Fred/) | \u0026#32; | [[https://github.com/nhirschey/FSharp.Data.Fred/](https://github.com/nhirschey/FSharp.Data.Fred/)](https://github.com/nhirschey/FSharp.Data.Fred/) | \u0026#32;\n",
    "[N Hirschey Teaching](https://nhirschey.github.io/Teaching/) | \u0026#32; | [[https://github.com/nhirschey/Teaching](https://github.com/nhirschey/Teaching)](https://github.com/nhirschey/Teaching) | \u0026#32;\n",
    "[FsUnit](https://fsprojects.github.io/FsUnit/) | \u0026#32; | [[https://github.com/fsprojects/FsUnit](https://github.com/fsprojects/FsUnit)](https://github.com/fsprojects/FsUnit) | \u0026#32;\n",
    "[FAKE](https://fake.build/) | \u0026#32; | [[https://github.com/fsprojects/FAKE](https://github.com/fsprojects/FAKE)](https://github.com/fsprojects/FAKE) | \u0026#32;\n",
    "[FSharp.Data.GraphQL](https://fsprojects.github.io/FSharp.Data.GraphQL/) | \u0026#32; | [[https://github.com/fsprojects/FSharp.Data.GraphQL](https://github.com/fsprojects/FSharp.Data.GraphQL)](https://github.com/fsprojects/FSharp.Data.GraphQL) | \u0026#32;\n",
    "\n",
    "\n"
   ]
  }
 ],
 "metadata": {
  "kernelspec": {
   "display_name": ".NET (F#)",
   "language": "F#",
   "name": ".net-fsharp"
  },
  "language_info": {
   "file_extension": ".fs",
   "mimetype": "text/x-fsharp",
   "name": "polyglot-notebook",
   "pygments_lexer": "fsharp"
  },
  "polyglot_notebook": {
   "kernelInfo": {
    "defaultKernelName": "fsharp",
    "items": [
     {
      "aliases": [],
      "languageName": "fsharp",
      "name": "fsharp"
     }
    ]
   }
  }
 },
 "nbformat": 4,
 "nbformat_minor": 2
}

