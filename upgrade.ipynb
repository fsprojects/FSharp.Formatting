
{
 "cells": [
  {
   "cell_type": "markdown",
   "metadata": {},
   
   "source": [
    "# Upgrading to fsdocs\n",
    "\n",
    "Here are the typical steps to upgrade a repo based on `ProjectScaffold` to use `fsdocs`\n",
    "\n",
    "0 Run\n",
    "  \n",
    "\n",
    "      [lang=text]\n",
    "      dotnet new tool\n",
    "      dotnet tool install fsdocs-tool\n",
    "  \n",
    "\n",
    "1 Delete all of `docs\\tools` particularly `docs\\tool\\generate.fsx`.  Keep a copy of any templates for reference as you\u0027ll have to copy some bits across to the new template.\n",
    "  \n",
    "\n",
    "2 Put your docs directory so it reflects the final shape of the site. For example move the content of `docs\\input\\*` and `docs\\files\\*` directly to `docs\\*`\n",
    "  \n",
    "\n",
    "3 Follow the notes in [styling](styling.html) to start to style your site.\n",
    "  \n",
    "\n",
    "4 Run\n",
    "  \n",
    "\n",
    "      [lang=text]\n",
    "      dotnet fsdocs watch\n",
    "  \n",
    "\n",
    "  and edit and test your docs.\n",
    "  \n",
    "\n",
    "5 If using FAKE adjust `build.fsx` e.g.\n",
    "  \n",
    "\n",
    "      [lang=text]\n",
    "      Target.create \"GenerateDocs\" (fun _ -\u003e\n",
    "         Shell.cleanDir \".fsdocs\"\n",
    "         DotNet.exec id \"fsdocs\" \"build --clean\" |\u003e ignore\n",
    "      )\n",
    "      \n",
    "      Target.create \"ReleaseDocs\" (fun _ -\u003e\n",
    "          Git.Repository.clone \"\" projectRepo \"temp/gh-pages\"\n",
    "          Git.Branches.checkoutBranch \"temp/gh-pages\" \"gh-pages\"\n",
    "          Shell.copyRecursive \"output\" \"temp/gh-pages\" true |\u003e printfn \"%A\"\n",
    "          Git.CommandHelper.runSimpleGitCommand \"temp/gh-pages\" \"add .\" |\u003e printfn \"%s\"\n",
    "          let cmd = sprintf \"\"\"commit -a -m \"Update generated documentation for version %s\"\"\" release.NugetVersion\n",
    "          Git.CommandHelper.runSimpleGitCommand \"temp/gh-pages\" cmd |\u003e printfn \"%s\"\n",
    "          Git.Branches.push \"temp/gh-pages\"\n",
    "      )\n",
    "  \n",
    "\n",
    "6 Consider creating `docs\\_template.fsx` and `docs\\_template.ipynb` to enable co-generation of F# scripts and F# notebooks.\n",
    "  \n",
    "\n",
    "  If you add support for notebooks and scripts, consider adding mybinder links to each of your literate executable content pages. For example [like this](https://github.com/fsprojects/FSharp.Formatting/blob/master/docs/literate.fsx#L19).\n",
    "  \n",
    "\n",
    "  Also add load sections to make sure your notebooks and scripts contain the right content to load packages out of repo.  For example [like this](https://github.com/fsprojects/FSharp.Formatting/blob/master/docs/literate.fsx#L1).\n",
    "  \n",
    "\n",
    "Sample commands:\n",
    "\n",
    "    [lang=text]\n",
    "    dotnet tool install fsdocs-tool --local\n",
    "    git add dotnet-tools.json   \n",
    "    git rm -fr docs/tools\n",
    "    git mv docs/input/* docs\n",
    "    git mv docs/files/* docs\n",
    "    \n",
    "    \u003cmanually download and fixup the _template.html\u003e\n",
    "\n",
    "    dotnet fsdocs watch\n",
    "\n",
    "    touch docs/_template.fsx\n",
    "    touch docs/_template.ipynb\n",
    "    git add docs/_template.fsx\n",
    "    git add docs/_template.ipynb\n",
    "\n",
    "Here is an example PR: [https://github.com/fsprojects/FSharp.Control.AsyncSeq/pull/116](https://github.com/fsprojects/FSharp.Control.AsyncSeq/pull/116)\n",
    "\n"
   ]
  }
 ],
 "metadata": {
  "kernelspec": {
   "display_name": ".NET (F#)",
   "language": "F#",
   "name": ".net-fsharp"
  },
  "language_info": {
   "file_extension": ".fs",
   "mimetype": "text/x-fsharp",
   "name": "polyglot-notebook",
   "pygments_lexer": "fsharp"
  },
  "polyglot_notebook": {
   "kernelInfo": {
    "defaultKernelName": "fsharp",
    "items": [
     {
      "aliases": [],
      "languageName": "fsharp",
      "name": "fsharp"
     }
    ]
   }
  }
 },
 "nbformat": 4,
 "nbformat_minor": 2
}

