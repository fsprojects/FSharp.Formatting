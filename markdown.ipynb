
{
 "cells": [
  {
   "cell_type": "markdown",
   "metadata": {},
   
   "source": [
    
   ]
  }
,
  {
   "cell_type": "code",
   "metadata": {
    "dotnet_interactive": {
     "language": "fsharp"
    },
    "polyglot_notebook": {
     "kernelName": "fsharp"
    }
   },
   "execution_count": null, "outputs": [],
   "source": [
    "#r \"nuget: FSharp.Formatting,1.0.0\"\n"
   ]
  }
,
  {
   "cell_type": "markdown",
   "metadata": {},
   
   "source": [
    "[![Binder](img/badge-binder.svg)](https://mybinder.org/v2/gh/fsprojects/fsharp.formatting/gh-pages?filepath=markdown.ipynb)\u0026emsp;\n",
    "[![Script](img/badge-script.svg)](https://fsprojects.github.io/FSharp.Formatting//markdown.fsx)\u0026emsp;\n",
    "[![Notebook](img/badge-notebook.svg)](https://fsprojects.github.io/FSharp.Formatting//markdown.ipynb)\n",
    "\n",
    "# Markdown parser\n",
    "\n",
    "This page demonstrates how to use `FSharp.Formatting.Markdown` to parse a Markdown\n",
    "document, process the obtained document representation, and\n",
    "how to turn the code into a nicely formatted HTML.\n",
    "\n",
    "First, we need to load the assembly and open the necessary namespaces:\n",
    "\n"
   ]
  }
,
  {
   "cell_type": "code",
   "metadata": {
    "dotnet_interactive": {
     "language": "fsharp"
    },
    "polyglot_notebook": {
     "kernelName": "fsharp"
    }
   },
   "execution_count": null, "outputs": [],
   "source": [
    "open FSharp.Formatting.Markdown\n",
    "open FSharp.Formatting.Common\n"
   ]
  }
,
  {
   "cell_type": "markdown",
   "metadata": {},
   
   "source": [
    "## Parsing documents\n",
    "\n",
    "The F# Markdown parser recognizes the standard [Markdown syntax](http://daringfireball.net/projects/markdown/)\n",
    "and it is not the aim of this tutorial to fully document it.\n",
    "The following snippet creates a simple string containing a document\n",
    "with several elements and then parses it using the [Markdown.Parse](https://fsprojects.github.io/FSharp.Formatting/reference/fsharp-formatting-markdown-markdown.html#Parse) method:\n",
    "\n"
   ]
  }
,
  {
   "cell_type": "code",
   "metadata": {
    "dotnet_interactive": {
     "language": "fsharp"
    },
    "polyglot_notebook": {
     "kernelName": "fsharp"
    }
   },
   "execution_count": null, "outputs": [],
   "source": [
    "let document =\n",
    "    \"\"\"\n",
    "# F# Hello world\n",
    "Hello world in [F#](http://fsharp.net) looks like this:\n",
    "\n",
    "    printfn \"Hello world!\"\n",
    "\n",
    "For more see [fsharp.org][fsorg].\n",
    "\n",
    "  [fsorg]: http://fsharp.org \"The F# organization.\" \"\"\"\n",
    "\n",
    "let parsed = Markdown.Parse(document)\n"
   ]
  }
,
  {
   "cell_type": "markdown",
   "metadata": {},
   
   "source": [
    "The sample document consists of a first-level heading (written using\n",
    "one of the two alternative styles) followed by a paragraph with a\n",
    "**direct** link, code snippet and one more paragraph that includes an\n",
    "**indirect** link. The URLs of indirect links are defined by a separate\n",
    "block as demonstrated on the last line (and they can then be easily used repeatedly\n",
    "from multiple places in the document).\n",
    "\n",
    "## Working with parsed documents\n",
    "\n",
    "The F# Markdown processor does not turn the document directly into HTML.\n",
    "Instead, it builds a nice F# data structure that we can use to analyze,\n",
    "transform and process the document. First of all the [MarkdownDocument.DefinedLinks](https://fsprojects.github.io/FSharp.Formatting/reference/fsharp-formatting-markdown-markdowndocument.html#DefinedLinks) property\n",
    "returns all indirect link definitions:\n",
    "\n"
   ]
  }
,
  {
   "cell_type": "code",
   "metadata": {
    "dotnet_interactive": {
     "language": "fsharp"
    },
    "polyglot_notebook": {
     "kernelName": "fsharp"
    }
   },
   "execution_count": null, "outputs": [],
   "source": [
    "parsed.DefinedLinks\n",
    "// [fsi:val it : IDictionary\u003cstring,(string * string option)\u003e =]\n",
    "// [fsi:  dict [(\"fsorg\", (\"http://fsharp.org\", Some \"The F# organization.\"))]]\n"
   ]
  }
,
  {
   "cell_type": "markdown",
   "metadata": {},
   
   "source": [
    "The document content can be accessed using the [MarkdownDocument.Paragraphs](https://fsprojects.github.io/FSharp.Formatting/reference/fsharp-formatting-markdown-markdowndocument.html#Paragraphs) property that returns\n",
    "a sequence of paragraphs or other first-level elements (headings, quotes, code snippets, etc.).\n",
    "The following snippet prints the heading of the document:\n",
    "\n"
   ]
  }
,
  {
   "cell_type": "code",
   "metadata": {
    "dotnet_interactive": {
     "language": "fsharp"
    },
    "polyglot_notebook": {
     "kernelName": "fsharp"
    }
   },
   "execution_count": null, "outputs": [],
   "source": [
    "// Iterate over all the paragraph elements\n",
    "for par in parsed.Paragraphs do\n",
    "    match par with\n",
    "    | Heading (size = 1; body = [ Literal (text = text) ]) -\u003e\n",
    "        // Recognize heading that has a simple content\n",
    "        // containing just a literal (no other formatting)\n",
    "        printfn \"%s\" text\n",
    "    | _ -\u003e ()\n"
   ]
  }
,
  {
   "cell_type": "markdown",
   "metadata": {},
   
   "source": [
    "You can find more detailed information about the document structure and how to process it\n",
    "in the book [F# Deep Dives](http://manning.com/petricek2/).\n",
    "\n",
    "## Processing the document recursively\n",
    "\n",
    "The library provides active patterns that can be used to easily process the Markdown\n",
    "document recursively. The example in this section shows how to extract all links from the\n",
    "document. To do that, we need to write two recursive functions. One that will process\n",
    "all paragraph-style elements and one that will process all inline formattings (inside\n",
    "paragraphs, headings etc.).\n",
    "\n",
    "To avoid pattern matching on every single kind of span and every single kind of\n",
    "paragraph, we can use active patterns from the [MarkdownPatterns](https://fsprojects.github.io/FSharp.Formatting/reference/fsharp-formatting-markdown-markdownpatterns.html) module. These can be use\n",
    "to recognize any paragraph or span that can contain child elements:\n",
    "\n"
   ]
  }
,
  {
   "cell_type": "code",
   "metadata": {
    "dotnet_interactive": {
     "language": "fsharp"
    },
    "polyglot_notebook": {
     "kernelName": "fsharp"
    }
   },
   "execution_count": null, "outputs": [],
   "source": [
    "/// Returns all links in a specified span node\n",
    "let rec collectSpanLinks span =\n",
    "    seq {\n",
    "        match span with\n",
    "        | DirectLink (link = url) -\u003e yield url\n",
    "        | IndirectLink (key = key) -\u003e yield fst (parsed.DefinedLinks.[key])\n",
    "        | MarkdownPatterns.SpanLeaf _ -\u003e ()\n",
    "        | MarkdownPatterns.SpanNode (_, spans) -\u003e\n",
    "            for s in spans do\n",
    "                yield! collectSpanLinks s\n",
    "    }\n",
    "\n",
    "/// Returns all links in the specified paragraph node\n",
    "let rec collectParLinks par =\n",
    "    seq {\n",
    "        match par with\n",
    "        | MarkdownPatterns.ParagraphLeaf _ -\u003e ()\n",
    "        | MarkdownPatterns.ParagraphNested (_, pars) -\u003e\n",
    "            for ps in pars do\n",
    "                for p in ps do\n",
    "                    yield! collectParLinks p\n",
    "        | MarkdownPatterns.ParagraphSpans (_, spans) -\u003e\n",
    "            for s in spans do\n",
    "                yield! collectSpanLinks s\n",
    "    }\n",
    "\n",
    "// Collect links in the entire document\n",
    "Seq.collect collectParLinks parsed.Paragraphs\n",
    "// [fsi:val it : seq\u003cstring\u003e =]\n",
    "// [fsi:  seq [\"http://fsharp.net\"; \"http://fsharp.org\"]]\n"
   ]
  }
,
  {
   "cell_type": "markdown",
   "metadata": {},
   
   "source": [
    "The `collectSpanLinks` function works on individual span elements that contain inline\n",
    "formatting (emphasis, strong) and also links. The `DirectLink` node from [MarkdownSpan](https://fsprojects.github.io/FSharp.Formatting/reference/fsharp-formatting-markdown-markdownspan.html) represents an inline\n",
    "link like the one pointing to [http://fsharp.net](http://fsharp.net) while `IndirectLink` represents a\n",
    "link that uses one of the link definitions. The function simply returns the URL associated\n",
    "with the link.\n",
    "\n",
    "Some span nodes (like emphasis) can contain other formatting, so we need to recursively\n",
    "process children. This is done by matching against `MarkdownPatterns.SpanNodes` which is an active\n",
    "pattern that recognizes any node with children. The library also provides a **function**\n",
    "named `MarkdownPatterns.SpanNode` that can be used to reconstruct the same node (when you want\n",
    "to transform a document). This is similar to how the `ExprShape` module for working with\n",
    "F# quotations works.\n",
    "\n",
    "The function `collectParLinks` processes paragraphs - a paragraph cannot directly be a\n",
    "link so we just need to process all spans. This time, there are three options.\n",
    "`ParagraphLeaf` represents a case where the paragraph does not contain any spans\n",
    "(a code block or, for example, a `\u003chr\u003e` line); the `ParagraphNested` case is used for paragraphs\n",
    "that contain other paragraphs (quotation) and `ParagraphSpans` is used for all other\n",
    "paragraphs that contain normal text - here we call `collectSpanLinks` on all nested spans.\n",
    "\n",
    "## Generating HTML output\n",
    "\n",
    "Finally, the [Markdown](https://fsprojects.github.io/FSharp.Formatting/reference/fsharp-formatting-markdown-markdown.html) type also includes a method [Markdown.ToHtml](https://fsprojects.github.io/FSharp.Formatting/reference/fsharp-formatting-markdown-markdown.html#ToHtml) that can be used\n",
    "to generate an HTML document from the Markdown input. The following example shows how to call it:\n",
    "\n"
   ]
  }
,
  {
   "cell_type": "code",
   "metadata": {
    "dotnet_interactive": {
     "language": "fsharp"
    },
    "polyglot_notebook": {
     "kernelName": "fsharp"
    }
   },
   "execution_count": null, "outputs": [],
   "source": [
    "let html = Markdown.ToHtml(parsed)\n"
   ]
  }
,
  {
   "cell_type": "markdown",
   "metadata": {},
   
   "source": [
    "There are also methods to generate `.fsx`, `.ipynb`, `.md` and `.tex`.\n",
    "\n"
   ]
  }
 ],
 "metadata": {
  "kernelspec": {
   "display_name": ".NET (F#)",
   "language": "F#",
   "name": ".net-fsharp"
  },
  "language_info": {
   "file_extension": ".fs",
   "mimetype": "text/x-fsharp",
   "name": "polyglot-notebook",
   "pygments_lexer": "fsharp"
  },
  "polyglot_notebook": {
   "kernelInfo": {
    "defaultKernelName": "fsharp",
    "items": [
     {
      "aliases": [],
      "languageName": "fsharp",
      "name": "fsharp"
     }
    ]
   }
  }
 },
 "nbformat": 4,
 "nbformat_minor": 2
}

