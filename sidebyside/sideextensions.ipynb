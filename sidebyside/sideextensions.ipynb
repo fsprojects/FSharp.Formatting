
        {
            "cells": [
          {
           "cell_type": "markdown",
           "metadata": {},
           
           "source": ["Markdown extensions side-by-side example\n",
"===================\n",
"\n",
"To use LaTex extension, you need add javascript\n",
"link to [MathJax](http://www.mathjax.org/) in\n",
"your template.\n",
"\n",
"To use inline LaTex, eclose LaTex code with `$`:\n",
"$ k_{n+1} = n^2 + k_n^2 - k_{n-1} $. Alternatively,\n",
"you can also use `$$`.\n",
"\n",
"To use block LaTex, start a new parapgraph, with\n",
"the first line marked as `$$$` (no close `$$$`):\n",
"\n",
"\\begin{equation}\n",
"A_{m,n} =\n",
" \\begin{pmatrix}\n",
"  a_{1,1} \u0026 a_{1,2} \u0026 \\cdots \u0026 a_{1,n} \\\\\n",
"  a_{2,1} \u0026 a_{2,2} \u0026 \\cdots \u0026 a_{2,n} \\\\\n",
"  \\vdots  \u0026 \\vdots  \u0026 \\ddots \u0026 \\vdots  \\\\\n",
"  a_{m,1} \u0026 a_{m,2} \u0026 \\cdots \u0026 a_{m,n}\n",
" \\end{pmatrix}\n",
"\\end{equation}\n",
"\n",
"Use LaTex escape rule:\n",
"\n",
"- Escape \\$ in inline mode: $ \\$ $, $ \\$var $\n",
"- Other escapes: $ \\\u0026 \\% \\$ \\# \\_ \\{ \\} $\n",
"- Using \u003c or \u003e: $ x \u003e 1 $, $ y \u003c 1 $, $ x \u003e= 1 $,\n",
"  $ y \u003c= 1 $, $ x = 1 $\n",
"- $ \u003cp\u003esomething\u003c/p\u003e $\n",
"\n",
"\n",
"\n"]
          }],
            "metadata": {
            "kernelspec": {"display_name": ".NET (F#)", "language": "F#", "name": ".net-fsharp"},
            "langauge_info": {
        "file_extension": ".fs",
        "mimetype": "text/x-fsharp",
        "name": "C#",
        "pygments_lexer": "fsharp",
        "version": "4.5"
        }
        },
            "nbformat": 4,
            "nbformat_minor": 1
        }
        
