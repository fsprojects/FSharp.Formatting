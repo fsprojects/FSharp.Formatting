
        {
            "cells": [
          {
           "cell_type": "markdown",
           "metadata": {},
           
           "source": ["Literate script\n",
"===============\n",
"\n",
"This file demonstrates how to write literate F# script\n",
"files (`*.fsx`) that can be transformed into nice HTML\n",
"using the `literate.fsx` script from the [F# Formatting\n",
"package](http://fsprojects.github.io/FSharp.Formatting).\n",
"\n",
"As you can see, a comment starting with double asterisk\n",
"is treated as part of the document and is transformed \n",
"using Markdown, which means that you can use:\n",
"\n",
" - Unordered or ordered lists \n",
" - Text formatting including **bold** and _emphasis_\n",
"\n",
"And numerous other [Markdown][md] features.\n",
"\n",
" [md]: http://daringfireball.net/projects/markdown\n",
"\n",
"Writing F# code\n",
"---------------\n",
"Code that is not inside comment will be formatted as\n",
"a sample snippet.\n"]
          }
,
          {
           "cell_type": "code",
           "metadata": {},
            "execution_count": 1, "outputs": [], 
           "source": ["/// The Hello World of functional languages!\n",
"let rec factorial x = \n",
"  if x = 0 then 1 \n",
"  else x * (factorial (x - 1))\n",
"\n",
"let f10 = factorial 10\n"]
          }
,
          {
           "cell_type": "markdown",
           "metadata": {},
           
           "source": ["Hiding code\n",
"-----------\n",
"\n",
"If you want to include some code in the source code, \n",
"but omit it from the output, you can use the `hide` \n",
"command.\n",
"The value will be defined in the F# code and so you\n",
"can use it from other (visible) code and get correct\n",
"tool tips:\n"]
          }
,
          {
           "cell_type": "code",
           "metadata": {},
            "execution_count": 3, "outputs": [], 
           "source": ["let answer = hidden\n"]
          }
,
          {
           "cell_type": "markdown",
           "metadata": {},
           
           "source": ["Moving code around\n",
"------------------\n",
"\n",
"Sometimes, it is useful to first explain some code that\n",
"has to be located at the end of the snippet (perhaps \n",
"because it uses some definitions discussed in the middle).\n",
"This can be done using `include` and `define` commands.\n",
"\n",
"The following snippet gets correct tool tips, even though\n",
"it uses `laterFunction`:\n"]
          }
,
          {
           "cell_type": "code",
           "metadata": {},
            "execution_count": 5, "outputs": [], 
           "source": ["let sample = \n",
"  laterFunction()\n",
"  |\u003e printfn \"Got: %s\"\n"]
          }
,
          {
           "cell_type": "markdown",
           "metadata": {},
           
           "source": ["Then we can explain how `laterFunction` is defined:\n"]
          }
,
          {
           "cell_type": "code",
           "metadata": {},
            "execution_count": 4, "outputs": [], 
           "source": ["let laterFunction() = \n",
"  \"Not very difficult, is it?\"\n"]
          }
,
          {
           "cell_type": "markdown",
           "metadata": {},
           
           "source": ["This example covers pretty much all features that are \n",
"currently implemented in `literate.fsx`, but feel free \n",
"to [fork the project on GitHub][fs] and add more \n",
"features or report bugs!\n",
"\n",
"  [fs]: https://github.com/fsprojects/FSharp.Formatting\n",
"\n"]
          }],
            "metadata": {
            "kernelspec": {"display_name": ".NET (F#)", "language": "F#", "name": ".net-fsharp"},
            "langauge_info": {
        "file_extension": ".fs",
        "mimetype": "text/x-fsharp",
        "name": "C#",
        "pygments_lexer": "fsharp",
        "version": "4.5"
        }
        },
            "nbformat": 4,
            "nbformat_minor": 1
        }
        
