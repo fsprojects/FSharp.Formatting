
{
 "cells": [
  {
   "cell_type": "markdown",
   "metadata": {},
   
   "source": [
    "# Example: Using Literate Script Content\n",
    "\n",
    "This file demonstrates how to write literate F# script\n",
    "files (`*.fsx`) that can be transformed into nice HTML\n",
    "using the `literate.fsx` script from the [F# Formatting\n",
    "package](http://fsprojects.github.io/FSharp.Formatting).\n",
    "\n",
    "As you can see, a comment starting with a double asterisk\n",
    "is treated as part of the document and is transformed\n",
    "using Markdown, which means that you can use:\n",
    "\n",
    "* Unordered or ordered lists\n",
    "\n",
    "* Text formatting including **bold** and **emphasis**\n",
    "\n",
    "And numerous other [Markdown](http://daringfireball.net/projects/markdown) features.\n",
    "\n",
    "## Writing F# code\n",
    "\n",
    "Code that is not inside the comment will be formatted as\n",
    "a sample snippet.\n",
    "\n"
   ]
  }
,
  {
   "cell_type": "code",
   "metadata": {
    "dotnet_interactive": {
     "language": "fsharp"
    },
    "polyglot_notebook": {
     "kernelName": "fsharp"
    }
   },
   "execution_count": null, "outputs": [],
   "source": [
    "/// The Hello World of functional languages!\n",
    "let rec factorial x =\n",
    "    if x = 0 then 1 else x * (factorial (x - 1))\n",
    "\n",
    "let f10 = factorial 10\n"
   ]
  }
,
  {
   "cell_type": "markdown",
   "metadata": {},
   
   "source": [
    "## Hiding code\n",
    "\n",
    "If you want to include some code in the source code,\n",
    "but omit it from the output, you can use the `hide`\n",
    "command.\n",
    "\n",
    "The value will be defined in the F# code and so you\n",
    "can use it from other (visible) code and get the correct\n",
    "tooltips:\n",
    "\n"
   ]
  }
,
  {
   "cell_type": "code",
   "metadata": {
    "dotnet_interactive": {
     "language": "fsharp"
    },
    "polyglot_notebook": {
     "kernelName": "fsharp"
    }
   },
   "execution_count": null, "outputs": [],
   "source": [
    "let answer = hidden\n"
   ]
  }
,
  {
   "cell_type": "markdown",
   "metadata": {},
   
   "source": [
    "## Moving code around\n",
    "\n",
    "Sometimes, it is useful to first explain some code that\n",
    "has to be located at the end of the snippet (perhaps\n",
    "because it uses some definitions discussed in the middle).\n",
    "This can be done using `include` and `define` commands.\n",
    "\n",
    "The following snippet gets the correct tooltips, even though\n",
    "it uses `laterFunction`:\n",
    "\n"
   ]
  }
,
  {
   "cell_type": "code",
   "metadata": {
    "dotnet_interactive": {
     "language": "fsharp"
    },
    "polyglot_notebook": {
     "kernelName": "fsharp"
    }
   },
   "execution_count": null, "outputs": [],
   "source": [
    "let sample = laterFunction () |\u003e printfn \"Got: %s\"\n"
   ]
  }
,
  {
   "cell_type": "markdown",
   "metadata": {},
   
   "source": [
    "Then, we can explain how `laterFunction` is defined:\n",
    "\n"
   ]
  }
,
  {
   "cell_type": "code",
   "metadata": {
    "dotnet_interactive": {
     "language": "fsharp"
    },
    "polyglot_notebook": {
     "kernelName": "fsharp"
    }
   },
   "execution_count": null, "outputs": [],
   "source": [
    "let laterFunction () = \"Not very difficult, is it?\"\n"
   ]
  }
,
  {
   "cell_type": "markdown",
   "metadata": {},
   
   "source": [
    "This example covers pretty much all features that are\n",
    "currently implemented in `literate.fsx`, but feel free\n",
    "to [fork the project on GitHub](https://github.com/fsprojects/FSharp.Formatting) and add more\n",
    "features or report bugs!\n",
    "\n"
   ]
  }
 ],
 "metadata": {
  "kernelspec": {
   "display_name": ".NET (F#)",
   "language": "F#",
   "name": ".net-fsharp"
  },
  "language_info": {
   "file_extension": ".fs",
   "mimetype": "text/x-fsharp",
   "name": "polyglot-notebook",
   "pygments_lexer": "fsharp"
  },
  "polyglot_notebook": {
   "kernelInfo": {
    "defaultKernelName": "fsharp",
    "items": [
     {
      "aliases": [],
      "languageName": "fsharp",
      "name": "fsharp"
     }
    ]
   }
  }
 },
 "nbformat": 4,
 "nbformat_minor": 2
}

