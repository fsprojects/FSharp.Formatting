
{
 "cells": [
  {
   "cell_type": "markdown",
   "metadata": {},
   
   "source": [
    "# Example: Using Markdown Content\n",
    "\n",
    "This file demonstrates how to write Markdown document with\n",
    "embedded F# snippets that can be transformed into nice HTML\n",
    "using the `literate.fsx` script from the [F# Formatting\n",
    "package](http://fsprojects.github.io/FSharp.Formatting).\n",
    "\n",
    "In this case, the document itself is a valid Markdown and\n",
    "you can use standard Markdown features to format the text:\n",
    "\n",
    "* Here is an example of an unordered list and...\n",
    "\n",
    "* Text formatting including **bold** and **emphasis**\n",
    "\n",
    "For more information, see the [Markdown](http://daringfireball.net/projects/markdown) reference.\n",
    "\n",
    "## Writing F# code\n",
    "\n",
    "In standard Markdown, you can include code snippets by\n",
    "writing a block indented by four spaces and the code\n",
    "snippet will be turned into a `\u003cpre\u003e` element. If you do\n",
    "the same using the Literate F# tool, the code is turned into\n",
    "a nicely formatted F# snippet:\n",
    "\n",
    "    /// The Hello World of functional languages!\n",
    "    let rec factorial x = \n",
    "      if x = 0 then 1 \n",
    "      else x * (factorial (x - 1))\n",
    "\n",
    "    let f10 = factorial 10\n",
    "\n",
    "\n",
    "## Hiding code\n",
    "\n",
    "If you want to include some code in the source code,\n",
    "but omit it from the output, you can use the `hide`\n",
    "command. You can also use `module=...` to specify that\n",
    "the snippet should be placed in a separate module\n",
    "(e.g. to avoid duplicate definitions).\n",
    "\n",
    "    [hide, module=Hidden]\n",
    "    /// This is a hidden answer\n",
    "    let answer = 42\n",
    "\n",
    "The value will be defined in the F# code that is\n",
    "processed and so you can use it from other (visible)\n",
    "code and get correct tooltips:\n",
    "\n",
    "    let answer = Hidden.answer\n",
    "\n",
    "## Including other snippets\n",
    "\n",
    "When writing literate programs as Markdown documents,\n",
    "you can also include snippets in other languages.\n",
    "These will not be colorized and processed as F#\n",
    "code samples:\n",
    "\n",
    "    [lang=csharp]\n",
    "    Console.WriteLine(\"Hello world!\");\n",
    "\n",
    "This snippet is turned into a `pre` element with the\n",
    "`lang` attribute set to `csharp`.\n",
    "\n"
   ]
  }
 ],
 "metadata": {
  "kernelspec": {
   "display_name": ".NET (F#)",
   "language": "F#",
   "name": ".net-fsharp"
  },
  "language_info": {
   "file_extension": ".fs",
   "mimetype": "text/x-fsharp",
   "name": "polyglot-notebook",
   "pygments_lexer": "fsharp"
  },
  "polyglot_notebook": {
   "kernelInfo": {
    "defaultKernelName": "fsharp",
    "items": [
     {
      "aliases": [],
      "languageName": "fsharp",
      "name": "fsharp"
     }
    ]
   }
  }
 },
 "nbformat": 4,
 "nbformat_minor": 2
}

