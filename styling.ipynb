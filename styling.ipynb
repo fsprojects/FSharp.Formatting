
        {
            "cells": [
          {
           "cell_type": "markdown",
           "metadata": {},
           
           "source": ["# Styling \n",
"\n",
"By default `fsdocs` uses the following (which are the settings used to build this site):\n",
"\n",
"* the default template in [docs/_template.html](https://github.com/fsprojects/FSharp.Formatting/blob/master/docs/_template.html)\n",
"\n",
"* the default styles in [docs/content/fsdocs-style.css](https://github.com/fsprojects/FSharp.Formatting/blob/master/docs/content/fsdocs-style.css).\n",
"\n",
"* no custom styles in [docs/content/fsdocs-custom.css](https://github.com/fsprojects/FSharp.Formatting/blob/master/docs/content/fsdocs-style.css).\n",
"\n",
"* no styling parameters for the default template (see below)\n",
"\n",
"For your project, you don\u0027t need any of these files. However you can add them if you wish, though if\n",
"you adjsut them there is no guarantee that your template will continue to work with future versions of F# Formatting.\n",
"\n",
"## Customizing via Styling Parameters\n",
"\n",
"The following [content parameters](content.html) are particularly related to visual styling:\n",
"\n",
"|  Substitution name                  | Value (if not overriden by --parameters)                      |  \n",
"|:------------------------------------|:--------------------------------------------------------------|\n",
"| {{fsdocs-logo-src}}             | `\u003cFsDocsLogoSource\u003e` else {{root}}/img/logo.png             | \n",
"| {{fsdocs-logo-link}}            | `\u003cFsDocsLogoLink\u003e` else `\u003cPackageProjectUrl\u003e`                 | \n",
"| {{fsdocs-navbar-position}}      | `fixed-left` or `fixed-right` (default ``fixed-right``)       | \n",
"\n",
"As an example, here is [a page with `fsdocs-navbar-position` set to `fixed-left`](templates/leftside/styling.html).\n",
"\n",
"## Customizing via CSS\n",
"\n",
"You can start styling by creating a file `docs/fsdocs-custom.css` and adding entries to it.  It is loaded by\n",
"the standard template.\n",
"\n",
"## Customizing via a new template\n",
"\n",
"You can do advanced styling by creating a new template.  Add a file `docs/_template.html`, likely starting\n",
"with the existing default template.\n",
"\n",
"\u003e NOTE: There is no guarantee that your template will continue to work with future versions of F# Formatting.\n",
"\u003e If you do develop a good template please consider contributing it back to F# Formatting.\n",
"\n",
"\n",
"\n"]
          }],
            "metadata": {
            "kernelspec": {"display_name": ".NET (F#)", "language": "F#", "name": ".net-fsharp"},
            "langauge_info": {
        "file_extension": ".fs",
        "mimetype": "text/x-fsharp",
        "name": "C#",
        "pygments_lexer": "fsharp",
        "version": "4.5"
        }
        },
            "nbformat": 4,
            "nbformat_minor": 1
        }
        
