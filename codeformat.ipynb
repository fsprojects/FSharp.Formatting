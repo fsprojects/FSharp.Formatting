
{
 "cells": [
  {
   "cell_type": "markdown",
   "metadata": {},
   
   "source": [
    
   ]
  }
,
  {
   "cell_type": "code",
   "metadata": {
    "dotnet_interactive": {
     "language": "fsharp"
    },
    "polyglot_notebook": {
     "kernelName": "fsharp"
    }
   },
   "execution_count": null, "outputs": [],
   "source": [
    "#r \"nuget: FSharp.Formatting,1.0.0\"\n"
   ]
  }
,
  {
   "cell_type": "markdown",
   "metadata": {},
   
   "source": [
    "[![Binder](img/badge-binder.svg)](https://mybinder.org/v2/gh/fsprojects/fsharp.formatting/gh-pages?filepath=codeformat.ipynb)\u0026emsp;\n",
    "[![Script](img/badge-script.svg)](https://fsprojects.github.io/FSharp.Formatting//codeformat.fsx)\u0026emsp;\n",
    "[![Notebook](img/badge-notebook.svg)](https://fsprojects.github.io/FSharp.Formatting//codeformat.ipynb)\n",
    "\n",
    "# Code formatting\n",
    "\n",
    "This page demonstrates how to use `FSharp.Formatting.CodeFormat` to tokenize\n",
    "F# source code, obtain information about the source code (mainly tooltips\n",
    "from the type-checker) and how to turn the code into a nicely formatted HTML.\n",
    "\n",
    "First, we need to load the assembly and open the necessary namespaces:\n",
    "\n"
   ]
  }
,
  {
   "cell_type": "code",
   "metadata": {
    "dotnet_interactive": {
     "language": "fsharp"
    },
    "polyglot_notebook": {
     "kernelName": "fsharp"
    }
   },
   "execution_count": null, "outputs": [],
   "source": [
    "open FSharp.Formatting.CodeFormat\n",
    "open System.Reflection\n"
   ]
  }
,
  {
   "cell_type": "markdown",
   "metadata": {},
   
   "source": [
    "If you want to process multiple snippets, it is a good idea to keep the\n",
    "formatting agent around if possible. The agent needs to load the F# compiler\n",
    "(which needs to load various files itself) and so this takes a long time.\n",
    "\n",
    "## Processing F# source\n",
    "\n",
    "The formatting agent provides a [CodeFormatAgent.ParseAndCheckSource](https://fsharp.github.io/fsharp-core-docs/reference/fsharp-formatting-codeformat-codeformatagent#ParseAndCheckSource) method (together with an asynchronous\n",
    "version for use from F# and also a version that returns a .NET `Task` for C#).\n",
    "To call the method, we define a simple F# code as a string:\n",
    "\n"
   ]
  }
,
  {
   "cell_type": "code",
   "metadata": {
    "dotnet_interactive": {
     "language": "fsharp"
    },
    "polyglot_notebook": {
     "kernelName": "fsharp"
    }
   },
   "execution_count": null, "outputs": [],
   "source": [
    "let source =\n",
    "    \"\"\"\n",
    "    let hello () =\n",
    "      printfn \"Hello world\"\n",
    "  \"\"\"\n",
    "\n",
    "let snippets, diagnostics =\n",
    "    CodeFormatter.ParseAndCheckSource(\"C:\\\\snippet.fsx\", source, None, None, ignore)\n"
   ]
  }
,
  {
   "cell_type": "markdown",
   "metadata": {},
   
   "source": [
    "When calling the method, you need to specify a file name and the actual content\n",
    "of the script file. The file does not have to physically exist. It is used by the\n",
    "F# compiler to resolve relative references (e.g. `#r`) and to automatically name\n",
    "the module including all code in the file.\n",
    "\n",
    "You can also specify additional parameters, such as `*.dll` references, by passing\n",
    "a third argument with compiler options (e.g. `\"-r:Foo.dll -r:Bar.dll\"`).\n",
    "\n",
    "This operation might take some time, so it is a good idea to use an asynchronous\n",
    "variant of the method. It returns two arrays - the first contains F# snippets\n",
    "in the source code and the second contains any errors reported by the compiler.\n",
    "A single source file can include multiple snippets using the same formatting tags\n",
    "as those used on [fssnip.net](http://www.fssnip.net) as documented in the\n",
    "[about page](http://www.fssnip.net/pages/About).\n",
    "\n",
    "## Working with returned tokens\n",
    "\n",
    "Each returned snippet is essentially just a collection of lines, and each line\n",
    "consists of a sequence of tokens. The following snippet prints basic information\n",
    "about the tokens of our sample snippet:\n",
    "\n"
   ]
  }
,
  {
   "cell_type": "code",
   "metadata": {
    "dotnet_interactive": {
     "language": "fsharp"
    },
    "polyglot_notebook": {
     "kernelName": "fsharp"
    }
   },
   "execution_count": null, "outputs": [],
   "source": [
    "// Get the first snippet and obtain list of lines\n",
    "let (Snippet (title, lines)) = snippets |\u003e Seq.head\n",
    "\n",
    "// Iterate over all lines and all tokens on each line\n",
    "for (Line (_, tokens)) in lines do\n",
    "    for token in tokens do\n",
    "        match token with\n",
    "        | TokenSpan.Token (kind, code, tip) -\u003e\n",
    "            printf \"%s\" code\n",
    "\n",
    "            tip\n",
    "            |\u003e Option.iter (fun spans -\u003e printfn \"%A\" spans)\n",
    "        | TokenSpan.Omitted _\n",
    "        | TokenSpan.Output _\n",
    "        | TokenSpan.Error _ -\u003e ()\n",
    "\n",
    "    printfn \"\"\n"
   ]
  }
,
  {
   "cell_type": "markdown",
   "metadata": {},
   
   "source": [
    "The `TokenSpan.Token` is the most important kind of token. It consists of a kind\n",
    "(identifier, keyword, etc.), the original F# code and tooltip information.\n",
    "The tooltip is further formatted using a simple document format, but we simply\n",
    "print the value using the F# pretty printing, so the result looks as follows:\n",
    "\n",
    "    let hello[Literal \"val hello : unit -\u003e unit\"; ...] () =\n",
    "      printfn[Literal \"val printfn : TextWriterFormat\u003c\u0027T\u003e -\u003e \u0027T\"; ...] \"Hello world\"\n",
    "\n",
    "The `Omitted` token is generated if you use the special `(*[omit:...]*)` command.\n",
    "The `Output` token is generated if you use the `// [fsi:...]` command to format\n",
    "output returned by F# interactive. The `Error` command wraps code that should be\n",
    "underlined with a red squiggle if the code contains an error.\n",
    "\n",
    "## Generating HTML output\n",
    "\n",
    "Finally, the `CodeFormat` type also includes a method [CodeFormat.FormatHtml](https://fsprojects.github.io/FSharp.Formatting/reference/fsharp-formatting-codeformat-codeformat.html#FormatHtml) that can be used\n",
    "to generate nice HTML output from an F# snippet. This is used, for example, on\n",
    "[F# Snippets](http://www.fssnip.net). The following example shows how to call it:\n",
    "\n"
   ]
  }
,
  {
   "cell_type": "code",
   "metadata": {
    "dotnet_interactive": {
     "language": "fsharp"
    },
    "polyglot_notebook": {
     "kernelName": "fsharp"
    }
   },
   "execution_count": null, "outputs": [],
   "source": [
    "let prefix = \"fst\"\n",
    "let html = CodeFormat.FormatHtml(snippets, prefix)\n",
    "\n",
    "// Print all snippets, in case there is more of them\n",
    "for snip in html.Snippets do\n",
    "    printfn \"%s\" snip.Content\n",
    "\n",
    "// Print HTML code that is generated for ToolTips\n",
    "printfn \"%s\" html.ToolTip\n"
   ]
  }
,
  {
   "cell_type": "markdown",
   "metadata": {},
   
   "source": [
    "If the input contains multiple snippets separated using the `//[snippet:...]` comment, e.g.:\n",
    "\n"
   ]
  }
,
  {
   "cell_type": "code",
   "metadata": {
    "dotnet_interactive": {
     "language": "fsharp"
    },
    "polyglot_notebook": {
     "kernelName": "fsharp"
    }
   },
   "execution_count": null, "outputs": [],
   "source": [
    "\u003ctable class=\"pre\"\u003e\u003ctr\u003e\u003ctd class=\"lines\"\u003e\u003cpre class=\"fssnip\"\u003e\n",
    "\u003cspan class=\"l\"\u003e1: \u003c/span\u003e\n",
    "\u003cspan class=\"l\"\u003e2: \u003c/span\u003e\n",
    "\u003cspan class=\"l\"\u003e3: \u003c/span\u003e\n",
    "\u003cspan class=\"l\"\u003e4: \u003c/span\u003e\n",
    "\u003cspan class=\"l\"\u003e5: \u003c/span\u003e\n",
    "\u003cspan class=\"l\"\u003e6: \u003c/span\u003e\n",
    "\u003cspan class=\"l\"\u003e7: \u003c/span\u003e\n",
    "\u003c/pre\u003e\n",
    "\u003c/td\u003e\n",
    "\u003ctd class=\"snippet\"\u003e\u003cpre class=\"fssnip\"\u003e\u003cspan class=\"c\"\u003e// [snippet: First sample]\u003c/span\u003e\n",
    "\u003cspan class=\"i\"\u003eprintf\u003c/span\u003e \u003cspan class=\"s\"\u003e\"The answer is: %A\"\u003c/span\u003e \u003cspan class=\"n\"\u003e42\u003c/span\u003e\n",
    "\u003cspan class=\"c\"\u003e// [/snippet]\u003c/span\u003e\n"
   ]
  }
,
  {
   "cell_type": "code",
   "metadata": {
    "dotnet_interactive": {
     "language": "fsharp"
    },
    "polyglot_notebook": {
     "kernelName": "fsharp"
    }
   },
   "execution_count": null, "outputs": [],
   "source": [
    "\u003cspan class=\"c\"\u003e// [snippet: Second sample]\u003c/span\u003e\n",
    "\u003cspan class=\"i\"\u003eprintf\u003c/span\u003e \u003cspan class=\"s\"\u003e\"Hello world!\"\u003c/span\u003e\n",
    "\u003cspan class=\"c\"\u003e// [/snippet]\u003c/span\u003e\n",
    "\u003c/pre\u003e\n",
    "\u003c/td\u003e\n",
    "\u003c/tr\u003e\n",
    "\u003c/table\u003e\n"
   ]
  }
,
  {
   "cell_type": "markdown",
   "metadata": {},
   
   "source": [
    "then the formatter returns multiple HTML blocks. However, the generated tooltips\n",
    "are shared by all snippets (to save space) and so they are returned separately.\n",
    "\n"
   ]
  }
 ],
 "metadata": {
  "kernelspec": {
   "display_name": ".NET (F#)",
   "language": "F#",
   "name": ".net-fsharp"
  },
  "language_info": {
   "file_extension": ".fs",
   "mimetype": "text/x-fsharp",
   "name": "polyglot-notebook",
   "pygments_lexer": "fsharp"
  },
  "polyglot_notebook": {
   "kernelInfo": {
    "defaultKernelName": "fsharp",
    "items": [
     {
      "aliases": [],
      "languageName": "fsharp",
      "name": "fsharp"
     }
    ]
   }
  }
 },
 "nbformat": 4,
 "nbformat_minor": 2
}

