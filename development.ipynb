
        {
            "cells": [
          {
           "cell_type": "markdown",
           "metadata": {},
           
           "source": ["F# Formatting: Development Topics\n",
"==================================\n",
"\n",
"Improve Common-Mark Test Coverage\n",
"----------------\n",
"See https://github.com/fsprojects/FSharp.Formatting/pull/343\n",
"\n",
"Update Common-Mark Test Suite\n",
"----------------\n",
"\n",
"    ./build.sh CreateTestJson\n",
"    git add -A\n",
"    git commit -m \"Update Common-Mark test suite\"\n",
"\n",
"More information\n",
"----------------\n",
"\n",
"The project is hosted on [GitHub](https://github.com/fsprojects/FSharp.Formatting) where you can \n",
"[report issues](https://github.com/fsprojects/FSharp.Formatting/issues), fork the project and submit pull requests.\n",
"Thanks to [Gustavo Guerra](https://github.com/ovatsus) for a great build script and \n",
"[Steffen Forkmann](https://github.com/forki) for the great build tool [FAKE](https://github.com/fsharp/FAKE).\n",
"The library is available under Apache 2.0. For more information see the \n",
"[License file](https://github.com/fsprojects/FSharp.Formatting/blob/master/LICENSE.md) in the GitHub repository.\n",
"\n"]
          }],
            "metadata": {
            "kernelspec": {"display_name": ".NET (F#)", "language": "F#", "name": ".net-fsharp"},
            "langauge_info": {
        "file_extension": ".fs",
        "mimetype": "text/x-fsharp",
        "name": "C#",
        "pygments_lexer": "fsharp",
        "version": "4.5"
        }
        },
            "nbformat": 4,
            "nbformat_minor": 1
        }
        
