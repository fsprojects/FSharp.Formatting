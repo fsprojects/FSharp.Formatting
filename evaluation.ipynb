
{
 "cells": [
  {
   "cell_type": "markdown",
   "metadata": {},
   
   "source": [
    
   ]
  }
,
  {
   "cell_type": "code",
   "metadata": {
    "dotnet_interactive": {
     "language": "fsharp"
    },
    "polyglot_notebook": {
     "kernelName": "fsharp"
    }
   },
   "execution_count": null, "outputs": [],
   "source": [
    "#r \"nuget: FSharp.Formatting,1.0.0\"\n"
   ]
  }
,
  {
   "cell_type": "markdown",
   "metadata": {},
   
   "source": [
    "[![Binder](img/badge-binder.svg)](https://mybinder.org/v2/gh/fsprojects/fsharp.formatting/gh-pages?filepath=evaluation.ipynb)\u0026emsp;\n",
    "[![Script](img/badge-script.svg)](https://fsprojects.github.io/FSharp.Formatting//evaluation.fsx)\u0026emsp;\n",
    "[![Notebook](img/badge-notebook.svg)](https://fsprojects.github.io/FSharp.Formatting//evaluation.ipynb)\n",
    "\n",
    "# Embedding script output\n",
    "\n",
    "For literate F# scripts, you may embed the result of running the script as part of the literate output.\n",
    "This is a feature of the functions discussed in [literate programming](literate.html) and\n",
    "it is implemented using the [F# Compiler service](http://fsharp.github.io/FSharp.Compiler.Service/).\n",
    "\n",
    "## Including Console Output\n",
    "\n",
    "To include the Console output use `include-output`:\n",
    "\n",
    "    let test = 40 + 2\n",
    "\n",
    "    printf \"A result is: %d\" test\n",
    "    (*** include-output ***)\n",
    "\n",
    "The script defines a variable `test` and then prints it. The console output is included\n",
    "in the output.\n",
    "\n",
    "To include the a formatted value use `include-it`:\n",
    "\n",
    "    [ 0 .. 99 ]\n",
    "\n",
    "    (*** include-it ***)\n",
    "\n",
    "\n",
    "To include the meta output of F# Interactive processing such as type signatures use `(*** include-fsi-output ***)`:\n",
    "\n",
    "    let test = 40 + 3\n",
    "\n",
    "    (*** include-fsi-output ***)\n",
    "\n",
    "To include both console output and F# Interactive output blended use `(*** include-fsi-merged-output ***)`.\n",
    "\n",
    "    let test = 40 + 4\n",
    "    (*** include-fsi-merged-output ***)\n",
    "\n",
    "You can use the same commands with a named snippet:\n",
    "\n",
    "    (*** include-it: test ***)\n",
    "    (*** include-fsi-output: test ***)\n",
    "    (*** include-output: test ***)\n",
    "\n",
    "You can use the `include-value` command to format a specific value:\n",
    "\n",
    "    let value1 = [ 0 .. 50 ]\n",
    "    let value2 = [ 51 .. 100 ]\n",
    "    (*** include-value: value1 ***)\n",
    "\n",
    "## Using AddPrinter and AddHtmlPrinter\n",
    "\n",
    "You can use `fsi.AddPrinter`, `fsi.AddPrintTransformer` and `fsi.AddHtmlPrinter` to extend the formatting of objects.\n",
    "\n",
    "## Emitting Raw Text\n",
    "\n",
    "To emit raw text in F# literate scripts use the following:\n",
    "\n",
    "\t(**\n",
    "\t\t(*** raw ***)\n",
    "\t\tSome raw text.\n",
    "\t*)\n",
    "\n",
    "which would emit\n",
    "\n"
   ]
  }
,
  {
   "cell_type": "code",
   "metadata": {
    "dotnet_interactive": {
     "language": "fsharp"
    },
    "polyglot_notebook": {
     "kernelName": "fsharp"
    }
   },
   "execution_count": null, "outputs": [],
   "source": [
    "\u003cpre\u003e\n",
    "Some raw text.\n",
    "\u003c/pre\u003e\n"
   ]
  }
,
  {
   "cell_type": "markdown",
   "metadata": {},
   
   "source": [
    "directly into the document.\n",
    "\n",
    "## F# Formatting as a Library:  Specifying the Evaluator and Formatting\n",
    "\n",
    "If using F# Formatting as a library the embedding of F# output requires specifying an additional parameter to the\n",
    "parsing functions discussed in [literate programming documentation](literate.html).\n",
    "Assuming you have all the references in place, you can now create an instance of\n",
    "[FsiEvaluator](https://fsprojects.github.io/FSharp.Formatting/reference/fsharp-formatting-literate-evaluation-fsievaluator.html) that represents a wrapper for F# interactive and pass it to all the\n",
    "functions that parse script files or process script files:\n",
    "\n"
   ]
  }
,
  {
   "cell_type": "code",
   "metadata": {
    "dotnet_interactive": {
     "language": "fsharp"
    },
    "polyglot_notebook": {
     "kernelName": "fsharp"
    }
   },
   "execution_count": null, "outputs": [],
   "source": [
    "open FSharp.Formatting.Literate\n",
    "open FSharp.Formatting.Literate.Evaluation\n",
    "open FSharp.Formatting.Markdown\n",
    "\n",
    "// Sample literate content\n",
    "let content =\n",
    "    \"\"\"\n",
    "let a = 10\n",
    "(*** include-value:a ***)\"\"\"\n",
    "\n",
    "// Create evaluator and parse script\n",
    "let fsi = FsiEvaluator()\n",
    "\n",
    "let doc = Literate.ParseScriptString(content, fsiEvaluator = fsi)\n",
    "\n",
    "Literate.ToHtml(doc)\n"
   ]
  }
,
  {
   "cell_type": "markdown",
   "metadata": {},
   
   "source": [
    "When the `fsiEvaluator` parameter is specified, the script is evaluated and so you\n",
    "can use additional commands such as `include-value`. When the evaluator is **not** specified,\n",
    "it is not created automatically, so the functionality is not available (this way,\n",
    "you won\u0027t accidentally run unexpected code!)\n",
    "\n",
    "If you specify the `fsiEvaluator` parameter, but don\u0027t want a specific snippet to be evaluated\n",
    "(because it might throw an exception, for example), you can use the `(*** do-not-eval ***)`\n",
    "command.\n",
    "\n",
    "The constructor of [FsiEvaluator](https://fsprojects.github.io/FSharp.Formatting/reference/fsharp-formatting-literate-evaluation-fsievaluator.html) takes command line parameters for `fsi.exe` that can\n",
    "be used to specify, for example, defined symbols and other attributes for F# Interactive.\n",
    "\n",
    "You can also subscribe to the `EvaluationFailed` event which is fired whenever the evaluation\n",
    "of an expression fails. You can use that to do tests that verify that all of the code in your\n",
    "documentation executes without errors.\n",
    "\n",
    "## F# Formatting as a Library: Custom formatting functions\n",
    "\n",
    "As mentioned earlier, values are formatted using a simple `\"%A\"` formatter by default.\n",
    "However, you can specify a formatting function that provides nicer formatting for values\n",
    "of certain types. For example, let\u0027s say that we would want to format F# lists such as\n",
    "`[1; 2; 3]` as HTML ordered lists `\u003col\u003e`.\n",
    "\n",
    "This can be done by calling [FsiEvaluator.RegisterTransformation](https://fsprojects.github.io/FSharp.Formatting/reference/fsharp-formatting-literate-evaluation-fsievaluator.html#RegisterTransformation) on the `FsiEvaluator` instance:\n",
    "\n"
   ]
  }
,
  {
   "cell_type": "code",
   "metadata": {
    "dotnet_interactive": {
     "language": "fsharp"
    },
    "polyglot_notebook": {
     "kernelName": "fsharp"
    }
   },
   "execution_count": null, "outputs": [],
   "source": [
    "// Create evaluator \u0026 register simple formatter for lists\n",
    "let fsiEvaluator = FsiEvaluator()\n",
    "\n",
    "fsiEvaluator.RegisterTransformation(fun (o, ty, _executionCount) -\u003e\n",
    "    // If the type of value is an F# list, format it nicely\n",
    "    if ty.IsGenericType\n",
    "       \u0026\u0026 ty.GetGenericTypeDefinition() = typedefof\u003clist\u003c_\u003e\u003e then\n",
    "        let items =\n",
    "            // Get items as objects and create a paragraph for each item\n",
    "            [ for it in Seq.cast\u003cobj\u003e (unbox o) -\u003e [ Paragraph([ Literal(it.ToString(), None) ], None) ] ]\n",
    "        // Return option value (success) with ordered list\n",
    "        Some [ ListBlock(MarkdownListKind.Ordered, items, None) ]\n",
    "    else\n",
    "        None)\n"
   ]
  }
,
  {
   "cell_type": "markdown",
   "metadata": {},
   
   "source": [
    "The function is called with two arguments - `o` is the value to be formatted, and `ty`\n",
    "is the static type of the value (as inferred by the F# compiler). The sample checks\n",
    "that the type of the value is a list (containing values of any type), and then it\n",
    "casts all values in the list to `obj` (for simplicity). Then, we generate Markdown\n",
    "blocks representing an ordered list. This means that the code will work for both\n",
    "LaTeX and HTML formatting - but if you only need one, you can simply produce HTML and\n",
    "embed it in `InlineHtmlBlock`.\n",
    "\n",
    "To use the new `FsiEvaluator`, we can use the same style as earlier. This time, we format\n",
    "a simple list containing strings:\n",
    "\n"
   ]
  }
,
  {
   "cell_type": "code",
   "metadata": {
    "dotnet_interactive": {
     "language": "fsharp"
    },
    "polyglot_notebook": {
     "kernelName": "fsharp"
    }
   },
   "execution_count": null, "outputs": [],
   "source": [
    "let listy =\n",
    "    \"\"\"\n",
    "### Formatting demo\n",
    "let test = [\"one\";\"two\";\"three\"]\n",
    "(*** include-value:test ***)\"\"\"\n",
    "\n",
    "let docOl = Literate.ParseScriptString(listy, fsiEvaluator = fsiEvaluator)\n",
    "\n",
    "Literate.ToHtml(docOl)\n"
   ]
  }
,
  {
   "cell_type": "markdown",
   "metadata": {},
   
   "source": [
    "The resulting HTML formatting of the document contains the snippet that defines `test`,\n",
    "followed by a nicely formatted ordered list:\n",
    "\n"
   ]
  }
,
  {
   "cell_type": "code",
   "metadata": {
    "dotnet_interactive": {
     "language": "fsharp"
    },
    "polyglot_notebook": {
     "kernelName": "fsharp"
    }
   },
   "execution_count": null, "outputs": [],
   "source": [
    "\u003cblockquote\u003e\n",
    "\u003ch3\u003eFormatting demo\u003c/h3\u003e\n",
    "\u003ctable class=\"pre\"\u003e\u003ctr\u003e\u003ctd class=\"lines\"\u003e\u003cpre class=\"fssnip\"\u003e\n",
    "\u003cspan class=\"l\"\u003e1: \u003c/span\u003e\n",
    "\u003c/pre\u003e\n",
    "\u003c/td\u003e\n",
    "\u003ctd class=\"snippet\"\u003e\u003cpre class=\"fssnip\"\u003e\n",
    "\u003cspan class=\"k\"\u003elet\u003c/span\u003e \u003cspanclass=\"i\"\u003etest\u003c/span\u003e \u003cspan class=\"o\"\u003e=\u003c/span\u003e [\u003cspan class=\"s\"\u003e\u0026quot;\u003c/span\u003e\u003cspan class=\"s\"\u003eone\u003c/span\u003e\u003cspan class=\"s\"\u003e\u0026quot;\u003c/span\u003e;\u003cspan class=\"s\"\u003e\u0026quot;\u003c/span\u003e\u003cspan class=\"s\"\u003etwo\u003c/span\u003e\u003cspan class=\"s\"\u003e\u0026quot;\u003c/span\u003e;\u003cspan class=\"s\"\u003e\u0026quot;\u003c/span\u003e\u003cspan class=\"s\"\u003ethree\u003c/span\u003e\u003cspan class=\"s\"\u003e\u0026quot;\u003c/span\u003e]\u003c/pre\u003e\n",
    "\u003c/td\u003e\n",
    "\u003c/tr\u003e\n",
    "\u003c/table\u003e\n",
    "\u003col\u003e\n",
    "\u003cli\u003e\u003cp\u003eone\u003c/p\u003e\u003c/li\u003e\n",
    "\u003cli\u003e\u003cp\u003etwo\u003c/p\u003e\u003c/li\u003e\n",
    "\u003cli\u003e\u003cp\u003ethree\u003c/p\u003e\u003c/li\u003e\n",
    "\u003c/ol\u003e\n",
    "\u003c/blockquote\u003e\n"
   ]
  }
 ],
 "metadata": {
  "kernelspec": {
   "display_name": ".NET (F#)",
   "language": "F#",
   "name": ".net-fsharp"
  },
  "language_info": {
   "file_extension": ".fs",
   "mimetype": "text/x-fsharp",
   "name": "polyglot-notebook",
   "pygments_lexer": "fsharp"
  },
  "polyglot_notebook": {
   "kernelInfo": {
    "defaultKernelName": "fsharp",
    "items": [
     {
      "aliases": [],
      "languageName": "fsharp",
      "name": "fsharp"
     }
    ]
   }
  }
 },
 "nbformat": 4,
 "nbformat_minor": 2
}

